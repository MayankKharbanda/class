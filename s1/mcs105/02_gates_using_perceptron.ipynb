{
 "cells": [
  {
   "cell_type": "code",
   "execution_count": 23,
   "metadata": {},
   "outputs": [],
   "source": [
    "import numpy as np"
   ]
  },
  {
   "cell_type": "code",
   "execution_count": 24,
   "metadata": {},
   "outputs": [],
   "source": [
    "class Perceptron:\n",
    "    def __init__(self, noOfInputs, learningRate = 0.05, epochs = 100):\n",
    "        self.epochs = epochs\n",
    "        self.learningRate = learningRate\n",
    "        self.numberOfInputs = noOfInputs\n",
    "        self.weights = 0.05 * np.random.randn(noOfInputs + 1) # 1 added for the bias\n",
    "    \n",
    "    def predict(self, inputs):\n",
    "        z = np.dot(self.weights[1:].T,inputs) + self.weights[0]\n",
    "        a = 1 if z > 0 else 0\n",
    "        return a\n",
    "    \n",
    "    def train(self, inputs, labels):\n",
    "        for _ in range(self.epochs):\n",
    "            deltaWeights = np.zeros(self.numberOfInputs)\n",
    "            deltaBias = 0.0\n",
    "            numberOfInstances = inputs.shape[0]\n",
    "            for inputVector,label in zip(inputs, labels):\n",
    "                prediction = self.predict(inputVector)\n",
    "                deltaWeights += self.learningRate * (label - prediction) * inputVector\n",
    "                deltaBias += self.learningRate * (label - prediction)\n",
    "            self.weights[1:] += (1 / numberOfInstances) * deltaWeights\n",
    "            self.weights[0] += (1 / numberOfInstances) * deltaBias"
   ]
  },
  {
   "cell_type": "markdown",
   "metadata": {},
   "source": [
    "## OR Gate"
   ]
  },
  {
   "cell_type": "code",
   "execution_count": 25,
   "metadata": {},
   "outputs": [
    {
     "name": "stdout",
     "output_type": "stream",
     "text": [
      "Output 1\n"
     ]
    }
   ],
   "source": [
    "inputs = np.array([ [0, 0], [0, 1], [1, 0], [1, 1] ])\n",
    "labels = np.array([0, 1, 1, 1])\n",
    "\n",
    "orPerceptron = Perceptron(2)\n",
    "orPerceptron.train(inputs, labels)\n",
    "result = orPerceptron.predict(np.array([0, 1])) \n",
    "print(\"Output\",result)"
   ]
  },
  {
   "cell_type": "markdown",
   "metadata": {},
   "source": [
    "## And Gate"
   ]
  },
  {
   "cell_type": "code",
   "execution_count": 26,
   "metadata": {},
   "outputs": [
    {
     "name": "stdout",
     "output_type": "stream",
     "text": [
      "Output 1\n"
     ]
    }
   ],
   "source": [
    "inputs = np.array([ [0, 0], [0, 1], [1, 0], [1, 1] ])\n",
    "labels = np.array([0, 0, 0, 1])\n",
    "\n",
    "andPerceptron = Perceptron(2)\n",
    "andPerceptron.train(inputs, labels)\n",
    "result = andPerceptron.predict(np.array([1, 1])) \n",
    "print(\"Output\",result)"
   ]
  },
  {
   "cell_type": "markdown",
   "metadata": {},
   "source": [
    "## Not Gate"
   ]
  },
  {
   "cell_type": "code",
   "execution_count": 27,
   "metadata": {},
   "outputs": [
    {
     "name": "stdout",
     "output_type": "stream",
     "text": [
      "Output 1\n"
     ]
    }
   ],
   "source": [
    "inputs = np.array([[0], [1]])\n",
    "labels = np.array([1, 0])\n",
    "\n",
    "notPerceptron = Perceptron(1)\n",
    "notPerceptron.train(inputs, labels)\n",
    "result = notPerceptron.predict(np.array([[0]])) \n",
    "print(\"Output\",result)"
   ]
  },
  {
   "cell_type": "markdown",
   "metadata": {},
   "source": [
    "## Xor Gate"
   ]
  },
  {
   "cell_type": "code",
   "execution_count": 55,
   "metadata": {},
   "outputs": [
    {
     "name": "stdout",
     "output_type": "stream",
     "text": [
      "Output 1\n"
     ]
    }
   ],
   "source": [
    "inputs = np.array([ [0, 0], [0, 1], [1, 0], [1, 1] ])\n",
    "labels = np.array([0, 1, 1, 0])\n",
    "\n",
    "x = 0\n",
    "y = 1\n",
    "xPrime = notPerceptron.predict(np.array([[x]]))\n",
    "yPrime = notPerceptron.predict(np.array([[y]]))\n",
    "xPrimeY = andPerceptron.predict(np.array([x, yPrime])) \n",
    "yPrimeX = andPerceptron.predict(np.array([y, xPrime]))\n",
    "result = orPerceptron.predict(np.array([xPrimeY, yPrimeX])) \n",
    "print(\"Output\",result)"
   ]
  },
  {
   "cell_type": "markdown",
   "metadata": {},
   "source": [
    "### Not-Xor Gate"
   ]
  },
  {
   "cell_type": "code",
   "execution_count": 57,
   "metadata": {},
   "outputs": [
    {
     "name": "stdout",
     "output_type": "stream",
     "text": [
      "Output 0\n"
     ]
    }
   ],
   "source": [
    "inputs = np.array([ [0, 0], [0, 1], [1, 0], [1, 1] ])\n",
    "labels = np.array([0, 1, 1, 0])\n",
    "\n",
    "x = 0\n",
    "y = 1\n",
    "xPrime = notPerceptron.predict(np.array([[x]]))\n",
    "yPrime = notPerceptron.predict(np.array([[y]]))\n",
    "xPrimeY = andPerceptron.predict(np.array([x, yPrime])) \n",
    "yPrimeX = andPerceptron.predict(np.array([y, xPrime]))\n",
    "result = orPerceptron.predict(np.array([xPrimeY, yPrimeX]))\n",
    "\n",
    "resultPrime = notPerceptron.predict(np.array([[result]]))\n",
    "print(\"Output\",resultPrime)"
   ]
  }
 ],
 "metadata": {
  "kernelspec": {
   "display_name": "Python 3",
   "language": "python",
   "name": "python3"
  },
  "language_info": {
   "codemirror_mode": {
    "name": "ipython",
    "version": 3
   },
   "file_extension": ".py",
   "mimetype": "text/x-python",
   "name": "python",
   "nbconvert_exporter": "python",
   "pygments_lexer": "ipython3",
   "version": "3.6.5"
  }
 },
 "nbformat": 4,
 "nbformat_minor": 2
}
