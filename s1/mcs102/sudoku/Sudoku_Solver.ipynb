{
 "cells": [
  {
   "cell_type": "markdown",
   "metadata": {},
   "source": [
    "# Solving Sudoku using Constraint Satisfaction"
   ]
  },
  {
   "cell_type": "markdown",
   "metadata": {},
   "source": [
    "# Problem Definition"
   ]
  },
  {
   "cell_type": "markdown",
   "metadata": {},
   "source": [
    "+ Sudoku is a 9x9 grid of numbers.\n",
    "+ Rows are labelled as A through I and columns are labelled as 1 through 9.\n",
    "+ Intersection of a row and columns is called a square that is filled with a number from the set {1,2,3,4,5,6,7,8,9}.\n",
    "+ A collection of 9 squares in a column, row, or box is called a unit. So each square has 3 units.\n",
    "+ Squares that share a unit are called peers. By this definition, a square can have 20 peers.\n",
    "\n",
    "The puzzle that is sudoku is solved if the squares in each unit are filled with a permutation of digits 1 through 9.\n"
   ]
  },
  {
   "cell_type": "raw",
   "metadata": {},
   "source": [
    " A1 A2 A3| A4 A5 A6| A7 A8 A9  \n",
    " B1 B2 B3| B4 B5 B6| B7 B8 B9  \n",
    " C1 C2 C3| C4 C5 C6| C7 C8 C9  \n",
    " ---------+---------+---------  \n",
    " D1 D2 D3| D4 D5 D6| D7 D8 D9  \n",
    " E1 E2 E3| E4 E5 E6| E7 E8 E9  \n",
    " F1 F2 F3| F4 F5 F6| F7 F8 F9  \n",
    " ---------+---------+---------  \n",
    " G1 G2 G3| G4 G5 G6| G7 G8 G9  \n",
    " H1 H2 H3| H4 H5 H6| H7 H8 H9  \n",
    " I1 I2 I3| I4 I5 I6| I7 I8 I9"
   ]
  },
  {
   "cell_type": "markdown",
   "metadata": {},
   "source": [
    "## Creation step"
   ]
  },
  {
   "cell_type": "code",
   "execution_count": 5,
   "metadata": {},
   "outputs": [],
   "source": [
    "def cross(A, B):\n",
    "    \"Takes cross product(here concatenation) of elements in A and elements in B\"\n",
    "    return [a + b for a in A for b in B]\n",
    "\n",
    "digits = '123456789'\n",
    "rows = 'ABCDEFGHI'\n",
    "cols = digits\n",
    "squares = cross(rows, cols)\n",
    "unitList = (\n",
    "    [cross(rows, c) for c in cols] + #generates 9 column units\n",
    "    [cross(r, cols) for r in rows] + #generates 9 row units\n",
    "    [cross(rs, cs) for rs in ('ABC', 'DEF', 'GHI') for cs in ('123', '456', '789')] #generates 9 box units\n",
    ")\n",
    "units = dict((s, [u for u in unitList if s in u]) for s in squares)\n",
    "peers = dict((s, set(sum(units[s], [])) - set([s])) for s in squares)\n",
    "#sum([[1,2,3],[4,5,6]], []) == [1,2,3,4,5,6]"
   ]
  },
  {
   "cell_type": "code",
   "execution_count": 6,
   "metadata": {},
   "outputs": [
    {
     "name": "stdout",
     "output_type": "stream",
     "text": [
      "Number of elements in squares list =  81\n",
      "Number of elements in unitList =  27\n",
      "Number of elements in units dictionary =  81\n",
      "Number of elements in peers dictionary =  81\n"
     ]
    }
   ],
   "source": [
    "print(\"Number of elements in squares list = \",len(squares))\n",
    "print(\"Number of elements in unitList = \",len(unitList))\n",
    "print(\"Number of elements in units dictionary = \",len(units))\n",
    "print(\"Number of elements in peers dictionary = \",len(peers))"
   ]
  },
  {
   "cell_type": "code",
   "execution_count": 7,
   "metadata": {},
   "outputs": [
    {
     "data": {
      "text/plain": [
       "[['A2', 'B2', 'C2', 'D2', 'E2', 'F2', 'G2', 'H2', 'I2'],\n",
       " ['D1', 'D2', 'D3', 'D4', 'D5', 'D6', 'D7', 'D8', 'D9'],\n",
       " ['D1', 'D2', 'D3', 'E1', 'E2', 'E3', 'F1', 'F2', 'F3']]"
      ]
     },
     "execution_count": 7,
     "metadata": {},
     "output_type": "execute_result"
    }
   ],
   "source": [
    "#unitList of D2 - located in squares[28]\n",
    "[unit for unit in unitList if 'D2' in unit]"
   ]
  },
  {
   "cell_type": "code",
   "execution_count": 8,
   "metadata": {},
   "outputs": [
    {
     "data": {
      "text/plain": [
       "[['A2', 'B2', 'C2', 'D2', 'E2', 'F2', 'G2', 'H2', 'I2'],\n",
       " ['D1', 'D2', 'D3', 'D4', 'D5', 'D6', 'D7', 'D8', 'D9'],\n",
       " ['D1', 'D2', 'D3', 'E1', 'E2', 'E3', 'F1', 'F2', 'F3']]"
      ]
     },
     "execution_count": 8,
     "metadata": {},
     "output_type": "execute_result"
    }
   ],
   "source": [
    "#units of D2\n",
    "units['D2']"
   ]
  },
  {
   "cell_type": "code",
   "execution_count": 9,
   "metadata": {},
   "outputs": [
    {
     "name": "stdout",
     "output_type": "stream",
     "text": [
      "{'D5', 'G2', 'D3', 'D1', 'D7', 'D4', 'H2', 'I2', 'F1', 'F3', 'F2', 'D6', 'E1', 'E2', 'C2', 'D8', 'E3', 'B2', 'A2', 'D9'}\n"
     ]
    }
   ],
   "source": [
    "#peers of D2\n",
    "print(peers['D2'])"
   ]
  },
  {
   "cell_type": "markdown",
   "metadata": {},
   "source": [
    "## Grid Representation"
   ]
  },
  {
   "cell_type": "code",
   "execution_count": 10,
   "metadata": {},
   "outputs": [],
   "source": [
    "#Grid Will be represented as follows:\n",
    "\n",
    "example_grid = \"4.....8.5.3..........7......2.....6.....8.4......1.......6.3.7.5..2.....1.4......\""
   ]
  },
  {
   "cell_type": "code",
   "execution_count": 11,
   "metadata": {},
   "outputs": [],
   "source": [
    "#extracting square values from the grid\n",
    "\n",
    "def grid_values(grid):\n",
    "    \"Convers grid to a dictionary of {square: character} with '0' or '.' for not filled\"\n",
    "    chars = [c for c in grid if c in digits or c in '0.']\n",
    "    assert len(chars) == 81\n",
    "    return dict(zip(squares, chars))"
   ]
  },
  {
   "cell_type": "code",
   "execution_count": 12,
   "metadata": {},
   "outputs": [
    {
     "name": "stdout",
     "output_type": "stream",
     "text": [
      "{'A1': '4', 'A2': '.', 'A3': '.', 'A4': '.', 'A5': '.', 'A6': '.', 'A7': '8', 'A8': '.', 'A9': '5', 'B1': '.', 'B2': '3', 'B3': '.', 'B4': '.', 'B5': '.', 'B6': '.', 'B7': '.', 'B8': '.', 'B9': '.', 'C1': '.', 'C2': '.', 'C3': '.', 'C4': '7', 'C5': '.', 'C6': '.', 'C7': '.', 'C8': '.', 'C9': '.', 'D1': '.', 'D2': '2', 'D3': '.', 'D4': '.', 'D5': '.', 'D6': '.', 'D7': '.', 'D8': '6', 'D9': '.', 'E1': '.', 'E2': '.', 'E3': '.', 'E4': '.', 'E5': '8', 'E6': '.', 'E7': '4', 'E8': '.', 'E9': '.', 'F1': '.', 'F2': '.', 'F3': '.', 'F4': '.', 'F5': '1', 'F6': '.', 'F7': '.', 'F8': '.', 'F9': '.', 'G1': '.', 'G2': '.', 'G3': '.', 'G4': '6', 'G5': '.', 'G6': '3', 'G7': '.', 'G8': '7', 'G9': '.', 'H1': '5', 'H2': '.', 'H3': '.', 'H4': '2', 'H5': '.', 'H6': '.', 'H7': '.', 'H8': '.', 'H9': '.', 'I1': '1', 'I2': '.', 'I3': '4', 'I4': '.', 'I5': '.', 'I6': '.', 'I7': '.', 'I8': '.', 'I9': '.'}\n"
     ]
    }
   ],
   "source": [
    "print(grid_values(example_grid))"
   ]
  },
  {
   "cell_type": "code",
   "execution_count": 13,
   "metadata": {},
   "outputs": [],
   "source": [
    "def eliminate(values, s, d):\n",
    "    \"\"\"\n",
    "    eliminate d from values[s], and propagate when values <= 2\n",
    "    Return values, except retrun False if contradiction is detected\n",
    "    \"\"\"\n",
    "    if d not in values[s]:\n",
    "        return values #Already eliminated\n",
    "    values[s] = values[s].replace(d, '')\n",
    "    \n",
    "    #if square only has one value, then eliminate that value from its peers\n",
    "    if len(values[s]) == 0:\n",
    "        return False\n",
    "    elif len(values[s]) == 1:\n",
    "        d2 = values[s]\n",
    "        if not all(eliminate(values, s2, d2) for s2 in peers[s]):\n",
    "            return False\n",
    "    \n",
    "    #if a unit has only one place for a value d, then put it there.\n",
    "    for u in units[s]:\n",
    "        dplaces = [s for s in u if d in values[s]]\n",
    "        if len(dplaces) == 0:\n",
    "            return False\n",
    "        elif len(dplaces) == 1:\n",
    "            if not assign(values, dplaces[0], d):\n",
    "                return False\n",
    "    return values\n",
    "    \n",
    "def assign(values, s, d):\n",
    "    \"\"\"\n",
    "    Assign values[s] with d, that is eliminating from values[s] all \n",
    "    except d and propagate it to its peers. \n",
    "    Return values, except retrun False if contradiction is detected\n",
    "    \"\"\"\n",
    "    \n",
    "    other_values = values[s].replace(d, '')\n",
    "    if all(eliminate(values, s, d2) for d2 in other_values):\n",
    "        return values\n",
    "    else:\n",
    "        return False"
   ]
  },
  {
   "cell_type": "code",
   "execution_count": 14,
   "metadata": {},
   "outputs": [],
   "source": [
    "#converting values in squares to possible values\n",
    "\n",
    "def parse_grid(grid):\n",
    "    \"\"\"\n",
    "    Convert grid to a dict of possible values, {square: digits}, or\n",
    "    return False if a contradiction is detected.\n",
    "    \"\"\"\n",
    "    \n",
    "    #Create a Dictionary where we assign each square all possible digits\n",
    "    values = dict((s,digits) for s in squares)\n",
    "\n",
    "    #Assign proper values to those squares in Values Dict that already had value in grid.\n",
    "    for s,d in grid_values(grid).items():\n",
    "        #only doing this for non-empty elements of the grid\n",
    "        if d in digits and not assign(values, s, d):\n",
    "            return False #could not assign d to square s\n",
    "    return values"
   ]
  },
  {
   "cell_type": "code",
   "execution_count": 15,
   "metadata": {},
   "outputs": [],
   "source": [
    "def display(values):\n",
    "    \"Display these values as a 2-D grid.\"\n",
    "    width = 1+max(len(values[s]) for s in squares)\n",
    "    line = '+'.join(['-'*(width*3)]*3)\n",
    "    for r in rows:\n",
    "        print(''.join(values[r+c].center(width)+('|' if c in '36' else '') for c in cols))\n",
    "        if r in 'CF': \n",
    "            print(line)\n",
    "    print()"
   ]
  },
  {
   "cell_type": "code",
   "execution_count": 16,
   "metadata": {},
   "outputs": [
    {
     "name": "stdout",
     "output_type": "stream",
     "text": [
      "   4      1679   12679  |  139     2369    269   |   8      1239     5    \n",
      " 26789     3    1256789 | 14589   24569   245689 | 12679    1249   124679 \n",
      "  2689   15689   125689 |   7     234569  245689 | 12369   12349   123469 \n",
      "------------------------+------------------------+------------------------\n",
      "  3789     2     15789  |  3459   34579    4579  | 13579     6     13789  \n",
      "  3679   15679   15679  |  359      8     25679  |   4     12359   12379  \n",
      " 36789     4     56789  |  359      1     25679  | 23579   23589   23789  \n",
      "------------------------+------------------------+------------------------\n",
      "  289      89     289   |   6      459      3    |  1259     7     12489  \n",
      "   5      6789     3    |   2      479      1    |   69     489     4689  \n",
      "   1      6789     4    |  589     579     5789  | 23569   23589   23689  \n",
      "\n"
     ]
    }
   ],
   "source": [
    "display(parse_grid(example_grid))"
   ]
  },
  {
   "cell_type": "code",
   "execution_count": 17,
   "metadata": {},
   "outputs": [],
   "source": [
    "#search and solve\n",
    "\n",
    "def solve(grid):\n",
    "    return search(parse_grid(grid))\n",
    "\n",
    "def search(values):\n",
    "    \"\"\"\n",
    "    Using depth first search.\n",
    "    \"\"\"\n",
    "    #check if a contradiction was found\n",
    "    if values is False:\n",
    "        return False\n",
    "    \n",
    "    #check if already solved\n",
    "    if all(len(values[s]) == 1 for s in squares):\n",
    "        return values\n",
    "    \n",
    "    #choose the unfilled square with fewest remaining possible values\n",
    "    n,s = min((len(values[s]), s) for s in squares if len(values[s]) > 1)\n",
    "    \n",
    "    #recursively call search after assigning s to d(do this for each d in values[s])\n",
    "    return some(search(assign(values.copy(), s, d)) for d in values[s])\n",
    "\n",
    "def some(seq):\n",
    "    \"\"\"\n",
    "    Return some element of seq that is True.\n",
    "    Here we are returning a possible solution\n",
    "    (that doesn't have any contradictions)\n",
    "    \"\"\"\n",
    "    for e in seq:\n",
    "        if e:\n",
    "            return e\n",
    "    return False"
   ]
  },
  {
   "cell_type": "code",
   "execution_count": 19,
   "metadata": {},
   "outputs": [
    {
     "name": "stdout",
     "output_type": "stream",
     "text": [
      "4 1 7 |3 6 9 |8 2 5 \n",
      "6 3 2 |1 5 8 |9 4 7 \n",
      "9 5 8 |7 2 4 |3 1 6 \n",
      "------+------+------\n",
      "8 2 5 |4 3 7 |1 6 9 \n",
      "7 9 1 |5 8 6 |4 3 2 \n",
      "3 4 6 |9 1 2 |7 5 8 \n",
      "------+------+------\n",
      "2 8 9 |6 4 3 |5 7 1 \n",
      "5 7 3 |2 9 1 |6 8 4 \n",
      "1 6 4 |8 7 5 |2 9 3 \n",
      "\n"
     ]
    }
   ],
   "source": [
    "display(solve(example_grid))"
   ]
  },
  {
   "cell_type": "code",
   "execution_count": null,
   "metadata": {},
   "outputs": [],
   "source": []
  }
 ],
 "metadata": {
  "kernelspec": {
   "display_name": "Python 3",
   "language": "python",
   "name": "python3"
  },
  "language_info": {
   "codemirror_mode": {
    "name": "ipython",
    "version": 3
   },
   "file_extension": ".py",
   "mimetype": "text/x-python",
   "name": "python",
   "nbconvert_exporter": "python",
   "pygments_lexer": "ipython3",
   "version": "3.6.5"
  }
 },
 "nbformat": 4,
 "nbformat_minor": 2
}
