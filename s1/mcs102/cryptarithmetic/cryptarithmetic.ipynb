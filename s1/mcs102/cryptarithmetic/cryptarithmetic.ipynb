{
 "cells": [
  {
   "cell_type": "markdown",
   "metadata": {},
   "source": [
    "# Cryptarithmetic Problem\n",
    "\n",
    "## Overview\n",
    "\n",
    "The problem deals with numbers that are represented by letters, where each letter is represented by a distict number between 0 and 9(Assuming digits are base 10). The goal is to find the digits for the letters such that a given mathematical equation is satisfied\n",
    "\n",
    "For example, suppose we are given\n",
    "\n",
    "```\n",
    " ODD\n",
    "+ODD\n",
    "----\n",
    "EVEN\n",
    "```\n",
    "\n",
    "Now this equation can satisfied by the assignment(there may be a different possible assignment) : {O:6, D:5, E:1, V:3, N:0}\n",
    "\n",
    "```\n",
    " 655\n",
    "+655\n",
    "----\n",
    "1310\n",
    "```\n",
    "\n",
    "## Problem model\n",
    "\n",
    "We can use a constraint satisfaction algorithm to solve this problem.\n",
    "\n",
    "We start by defining the variables and the constraints. \n",
    "\n",
    "The **variables** are the letters which take distinct values.\n",
    "\n",
    "The **constraints** are:\n",
    "+ Equation : ODD + ODD = EVEN\n",
    "+ Distinct(O,D,E,V,N)\n",
    "+ NotZero(O,E), since O & D are leading digits\n",
    "\n"
   ]
  },
  {
   "cell_type": "markdown",
   "metadata": {},
   "source": [
    "## Program"
   ]
  },
  {
   "cell_type": "code",
   "execution_count": 27,
   "metadata": {},
   "outputs": [
    {
     "name": "stdout",
     "output_type": "stream",
     "text": [
      "[O(6), D(5), E(1), V(3), N(0)]\n",
      "\n",
      "\n",
      "Possible Solution:\n",
      "\n",
      "   6 5 5 \n",
      " + 6 5 5 \n",
      " ------- \n",
      " 1 3 1 0\n"
     ]
    }
   ],
   "source": [
    "from ortools.constraint_solver import pywrapcp\n",
    "\n",
    "#defining the CSP Engine\n",
    "solver = pywrapcp.Solver('CP is fun!')\n",
    "\n",
    "#define digits\n",
    "kBase = 10\n",
    "digits = range(0,kBase)\n",
    "digits_without_zero = range(1,kBase)\n",
    "\n",
    "#define variables\n",
    "o = solver.IntVar(1,kBase,'O')\n",
    "d = solver.IntVar(0,kBase, 'D')\n",
    "e = solver.IntVar(1,kBase, 'E')\n",
    "v = solver.IntVar(0,kBase, 'V')\n",
    "n = solver.IntVar(0,kBase, 'N')\n",
    "\n",
    "letters = [o,d,e,v,n]\n",
    "\n",
    "#verify that we don't have too many letters\n",
    "assert kBase >= len(letters)\n",
    "\n",
    "#define constraints\n",
    "solver.Add(solver.AllDifferent(letters))\n",
    "solver.Add((d + d) + kBase * (d + d) + kBase * kBase * (o + o) ==\n",
    "           n + kBase * e + kBase * kBase * v + kBase * kBase * kBase * e)\n",
    "\n",
    "#invoking the solver\n",
    "db = solver.Phase(letters, solver.INT_VAR_DEFAULT, solver.INT_VALUE_DEFAULT)\n",
    "solver.NewSearch(db)\n",
    "solver.NextSolution()\n",
    "print(letters)\n",
    "\n",
    "print(\"\\n\\nPossible Solution:\\n\\n  \",o.Value(),d.Value(),d.Value(),\n",
    "      \"\\n +\",o.Value(),d.Value(),d.Value(),\n",
    "      \"\\n -------\",\n",
    "      \"\\n\",e.Value(),v.Value(),e.Value(),n.Value())\n"
   ]
  },
  {
   "cell_type": "code",
   "execution_count": null,
   "metadata": {},
   "outputs": [],
   "source": []
  }
 ],
 "metadata": {
  "kernelspec": {
   "display_name": "Python 3",
   "language": "python",
   "name": "python3"
  },
  "language_info": {
   "codemirror_mode": {
    "name": "ipython",
    "version": 3
   },
   "file_extension": ".py",
   "mimetype": "text/x-python",
   "name": "python",
   "nbconvert_exporter": "python",
   "pygments_lexer": "ipython3",
   "version": "3.6.5"
  }
 },
 "nbformat": 4,
 "nbformat_minor": 2
}
