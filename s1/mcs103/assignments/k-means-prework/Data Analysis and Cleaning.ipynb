{
 "cells": [
  {
   "cell_type": "code",
   "execution_count": 151,
   "metadata": {},
   "outputs": [],
   "source": [
    "import numpy as np\n",
    "import pandas as pd"
   ]
  },
  {
   "cell_type": "markdown",
   "metadata": {},
   "source": [
    "## 1. Introduce the Data"
   ]
  },
  {
   "cell_type": "markdown",
   "metadata": {},
   "source": [
    "### Import the dataset"
   ]
  },
  {
   "cell_type": "code",
   "execution_count": 152,
   "metadata": {},
   "outputs": [],
   "source": [
    "df = pd.read_csv('20061101.txt', sep = \"\\t\", header = None)\n",
    "column_list = [\n",
    "    'duration',\n",
    "    'service',\n",
    "    'source_bytes',\n",
    "    'destination_bytes',\n",
    "    'count',\n",
    "    'same_srv_rate',\n",
    "    'serror_rate',\n",
    "    'srv_serror_rate',\n",
    "    'dst_host_count',\n",
    "    'dst_host_srv_count',\n",
    "    'dst_host_same_src_port_rate',\n",
    "    'dst_host_serror_rate',\n",
    "    'dst_host_srv_serror_rate',\n",
    "    'flag',\n",
    "    'ids_detection',\n",
    "    'malware_detection',\n",
    "    'ashula_detection',\n",
    "    'label',\n",
    "    'source_ip_address',\n",
    "    'source_port_number',\n",
    "    'destination_ip_address',\n",
    "    'destination_port_number',\n",
    "    'start_time',\n",
    "    'protocol'\n",
    "]\n",
    "df.columns = column_list"
   ]
  },
  {
   "cell_type": "code",
   "execution_count": 153,
   "metadata": {},
   "outputs": [
    {
     "data": {
      "text/html": [
       "<div>\n",
       "<style scoped>\n",
       "    .dataframe tbody tr th:only-of-type {\n",
       "        vertical-align: middle;\n",
       "    }\n",
       "\n",
       "    .dataframe tbody tr th {\n",
       "        vertical-align: top;\n",
       "    }\n",
       "\n",
       "    .dataframe thead th {\n",
       "        text-align: right;\n",
       "    }\n",
       "</style>\n",
       "<table border=\"1\" class=\"dataframe\">\n",
       "  <thead>\n",
       "    <tr style=\"text-align: right;\">\n",
       "      <th></th>\n",
       "      <th>duration</th>\n",
       "      <th>service</th>\n",
       "      <th>source_bytes</th>\n",
       "      <th>destination_bytes</th>\n",
       "      <th>count</th>\n",
       "      <th>same_srv_rate</th>\n",
       "      <th>serror_rate</th>\n",
       "      <th>srv_serror_rate</th>\n",
       "      <th>dst_host_count</th>\n",
       "      <th>dst_host_srv_count</th>\n",
       "      <th>...</th>\n",
       "      <th>ids_detection</th>\n",
       "      <th>malware_detection</th>\n",
       "      <th>ashula_detection</th>\n",
       "      <th>label</th>\n",
       "      <th>source_ip_address</th>\n",
       "      <th>source_port_number</th>\n",
       "      <th>destination_ip_address</th>\n",
       "      <th>destination_port_number</th>\n",
       "      <th>start_time</th>\n",
       "      <th>protocol</th>\n",
       "    </tr>\n",
       "  </thead>\n",
       "  <tbody>\n",
       "    <tr>\n",
       "      <th>0</th>\n",
       "      <td>27.561208</td>\n",
       "      <td>smtp</td>\n",
       "      <td>3179</td>\n",
       "      <td>175</td>\n",
       "      <td>0</td>\n",
       "      <td>0.0</td>\n",
       "      <td>0.0</td>\n",
       "      <td>0.0</td>\n",
       "      <td>0</td>\n",
       "      <td>0</td>\n",
       "      <td>...</td>\n",
       "      <td>0</td>\n",
       "      <td>0</td>\n",
       "      <td>0</td>\n",
       "      <td>1</td>\n",
       "      <td>fda2:69aa:1f1a:84b0:130d:2736:3fa0:42da</td>\n",
       "      <td>2161</td>\n",
       "      <td>fda2:69aa:1f1a:61a4:7dc5:27f2:0713:0f0e</td>\n",
       "      <td>25</td>\n",
       "      <td>00:00:09</td>\n",
       "      <td>tcp</td>\n",
       "    </tr>\n",
       "    <tr>\n",
       "      <th>1</th>\n",
       "      <td>0.000000</td>\n",
       "      <td>other</td>\n",
       "      <td>0</td>\n",
       "      <td>0</td>\n",
       "      <td>0</td>\n",
       "      <td>0.0</td>\n",
       "      <td>0.0</td>\n",
       "      <td>0.0</td>\n",
       "      <td>0</td>\n",
       "      <td>0</td>\n",
       "      <td>...</td>\n",
       "      <td>0</td>\n",
       "      <td>0</td>\n",
       "      <td>0</td>\n",
       "      <td>-1</td>\n",
       "      <td>fda2:69aa:1f1a:0104:3fff:571a:ff2c:00a5</td>\n",
       "      <td>138</td>\n",
       "      <td>fda2:69aa:1f1a:2108:3f84:570e:ffe4:007b</td>\n",
       "      <td>138</td>\n",
       "      <td>00:00:14</td>\n",
       "      <td>udp</td>\n",
       "    </tr>\n",
       "    <tr>\n",
       "      <th>2</th>\n",
       "      <td>86366.249616</td>\n",
       "      <td>other</td>\n",
       "      <td>244776</td>\n",
       "      <td>0</td>\n",
       "      <td>0</td>\n",
       "      <td>0.0</td>\n",
       "      <td>0.0</td>\n",
       "      <td>0.0</td>\n",
       "      <td>0</td>\n",
       "      <td>0</td>\n",
       "      <td>...</td>\n",
       "      <td>0</td>\n",
       "      <td>0</td>\n",
       "      <td>0</td>\n",
       "      <td>-1</td>\n",
       "      <td>fda2:69aa:1f1a:540c:7d80:2750:07a6:28a5</td>\n",
       "      <td>32770</td>\n",
       "      <td>fda2:69aa:1f1a:0d61:1001:01e2:02fb:2a22</td>\n",
       "      <td>8649</td>\n",
       "      <td>00:00:15</td>\n",
       "      <td>udp</td>\n",
       "    </tr>\n",
       "    <tr>\n",
       "      <th>3</th>\n",
       "      <td>2994.374758</td>\n",
       "      <td>other</td>\n",
       "      <td>15744</td>\n",
       "      <td>18154</td>\n",
       "      <td>0</td>\n",
       "      <td>0.0</td>\n",
       "      <td>0.0</td>\n",
       "      <td>0.0</td>\n",
       "      <td>0</td>\n",
       "      <td>0</td>\n",
       "      <td>...</td>\n",
       "      <td>0</td>\n",
       "      <td>0</td>\n",
       "      <td>0</td>\n",
       "      <td>-1</td>\n",
       "      <td>fda2:69aa:1f1a:3aef:7af3:3027:3045:7ff2</td>\n",
       "      <td>1400</td>\n",
       "      <td>fda2:69aa:1f1a:e714:277f:10e1:03f2:425a</td>\n",
       "      <td>80</td>\n",
       "      <td>00:00:16</td>\n",
       "      <td>tcp</td>\n",
       "    </tr>\n",
       "    <tr>\n",
       "      <th>4</th>\n",
       "      <td>4.749378</td>\n",
       "      <td>smtp</td>\n",
       "      <td>7895</td>\n",
       "      <td>244</td>\n",
       "      <td>0</td>\n",
       "      <td>0.0</td>\n",
       "      <td>0.0</td>\n",
       "      <td>0.0</td>\n",
       "      <td>0</td>\n",
       "      <td>0</td>\n",
       "      <td>...</td>\n",
       "      <td>0</td>\n",
       "      <td>0</td>\n",
       "      <td>0</td>\n",
       "      <td>1</td>\n",
       "      <td>fda2:69aa:1f1a:381e:25aa:0bff:12e8:0365</td>\n",
       "      <td>1806</td>\n",
       "      <td>fda2:69aa:1f1a:61a4:7dc5:27f2:0713:0f0e</td>\n",
       "      <td>25</td>\n",
       "      <td>00:00:17</td>\n",
       "      <td>tcp</td>\n",
       "    </tr>\n",
       "  </tbody>\n",
       "</table>\n",
       "<p>5 rows × 24 columns</p>\n",
       "</div>"
      ],
      "text/plain": [
       "       duration service  source_bytes  destination_bytes  count  \\\n",
       "0     27.561208    smtp          3179                175      0   \n",
       "1      0.000000   other             0                  0      0   \n",
       "2  86366.249616   other        244776                  0      0   \n",
       "3   2994.374758   other         15744              18154      0   \n",
       "4      4.749378    smtp          7895                244      0   \n",
       "\n",
       "   same_srv_rate  serror_rate  srv_serror_rate  dst_host_count  \\\n",
       "0            0.0          0.0              0.0               0   \n",
       "1            0.0          0.0              0.0               0   \n",
       "2            0.0          0.0              0.0               0   \n",
       "3            0.0          0.0              0.0               0   \n",
       "4            0.0          0.0              0.0               0   \n",
       "\n",
       "   dst_host_srv_count    ...     ids_detection  malware_detection  \\\n",
       "0                   0    ...                 0                  0   \n",
       "1                   0    ...                 0                  0   \n",
       "2                   0    ...                 0                  0   \n",
       "3                   0    ...                 0                  0   \n",
       "4                   0    ...                 0                  0   \n",
       "\n",
       "   ashula_detection label                        source_ip_address  \\\n",
       "0                 0     1  fda2:69aa:1f1a:84b0:130d:2736:3fa0:42da   \n",
       "1                 0    -1  fda2:69aa:1f1a:0104:3fff:571a:ff2c:00a5   \n",
       "2                 0    -1  fda2:69aa:1f1a:540c:7d80:2750:07a6:28a5   \n",
       "3                 0    -1  fda2:69aa:1f1a:3aef:7af3:3027:3045:7ff2   \n",
       "4                 0     1  fda2:69aa:1f1a:381e:25aa:0bff:12e8:0365   \n",
       "\n",
       "  source_port_number                   destination_ip_address  \\\n",
       "0               2161  fda2:69aa:1f1a:61a4:7dc5:27f2:0713:0f0e   \n",
       "1                138  fda2:69aa:1f1a:2108:3f84:570e:ffe4:007b   \n",
       "2              32770  fda2:69aa:1f1a:0d61:1001:01e2:02fb:2a22   \n",
       "3               1400  fda2:69aa:1f1a:e714:277f:10e1:03f2:425a   \n",
       "4               1806  fda2:69aa:1f1a:61a4:7dc5:27f2:0713:0f0e   \n",
       "\n",
       "   destination_port_number start_time  protocol  \n",
       "0                       25   00:00:09       tcp  \n",
       "1                      138   00:00:14       udp  \n",
       "2                     8649   00:00:15       udp  \n",
       "3                       80   00:00:16       tcp  \n",
       "4                       25   00:00:17       tcp  \n",
       "\n",
       "[5 rows x 24 columns]"
      ]
     },
     "execution_count": 153,
     "metadata": {},
     "output_type": "execute_result"
    }
   ],
   "source": [
    "df.head()"
   ]
  },
  {
   "cell_type": "code",
   "execution_count": 154,
   "metadata": {},
   "outputs": [
    {
     "data": {
      "text/plain": [
       "(9649, 24)"
      ]
     },
     "execution_count": 154,
     "metadata": {},
     "output_type": "execute_result"
    }
   ],
   "source": [
    "df.shape"
   ]
  },
  {
   "cell_type": "markdown",
   "metadata": {},
   "source": [
    "### Remove the target variable from the dataset\n",
    "the target variable will be a combination of `label`, `ids_detection`, `malware_detection`, `ashula_detection`\n",
    "\n",
    "- label = 0 if **no** Intrusion 1 Otherwise **<-- Important**\n",
    "- ids_detection = 0 if alert **not** triggered 1 otherwise\n",
    "- malware_detection = 0 if alert **not** triggered 1 otherwise\n",
    "- ashula_detection = 0 if alert **not** triggered 1 otherwise"
   ]
  },
  {
   "cell_type": "code",
   "execution_count": 155,
   "metadata": {},
   "outputs": [],
   "source": [
    "df['label'] = [0 if x == 1 else 1 for x in df['label']]\n",
    "df['ids_detection'] = [0 if x == 0 else 1 for x in df['label']]\n",
    "df['malware_detection'] = [0 if x == 0 else 1 for x in df['label']]\n",
    "df['ashula_detection'] = [0 if x == 0 else 1 for x in df['label']]"
   ]
  },
  {
   "cell_type": "code",
   "execution_count": 156,
   "metadata": {},
   "outputs": [
    {
     "data": {
      "text/plain": [
       "(9649, 20)"
      ]
     },
     "execution_count": 156,
     "metadata": {},
     "output_type": "execute_result"
    }
   ],
   "source": [
    "label_target = df.pop('label').values\n",
    "ids_detection_target = df.pop('ids_detection').values\n",
    "malware_detection_target = df.pop('malware_detection').values\n",
    "ashula_detection_target = df.pop('ashula_detection').values\n",
    "\n",
    "df.shape"
   ]
  },
  {
   "cell_type": "code",
   "execution_count": 157,
   "metadata": {},
   "outputs": [],
   "source": [
    "#applying OR to get the target variable y\n",
    "y = label_target | ids_detection_target | malware_detection_target | ashula_detection_target"
   ]
  },
  {
   "cell_type": "markdown",
   "metadata": {},
   "source": [
    "### Checking String Based Features"
   ]
  },
  {
   "cell_type": "code",
   "execution_count": 158,
   "metadata": {},
   "outputs": [
    {
     "name": "stdout",
     "output_type": "stream",
     "text": [
      "Number of unique values =  9 \n",
      "\n",
      "other       6046\n",
      "http        2186\n",
      "smtp         677\n",
      "dns          327\n",
      "ssh          280\n",
      "ssl          122\n",
      "ftp            5\n",
      "smtp,ssl       3\n",
      "ftp-data       3\n",
      "Name: service, dtype: int64\n"
     ]
    }
   ],
   "source": [
    "#count the unique values in service feature(string based)\n",
    "service_value_counts = df['service'].value_counts()\n",
    "print(\"Number of unique values = \", service_value_counts.shape[0], \"\\n\")\n",
    "print(service_value_counts)"
   ]
  },
  {
   "cell_type": "code",
   "execution_count": 159,
   "metadata": {},
   "outputs": [
    {
     "name": "stdout",
     "output_type": "stream",
     "text": [
      "Number of unique values =  3 \n",
      "\n",
      "tcp     6934\n",
      "udp     1655\n",
      "icmp    1060\n",
      "Name: protocol, dtype: int64\n"
     ]
    }
   ],
   "source": [
    "#count the unique values in protocol feature(string based)\n",
    "protocol_value_counts = df['protocol'].value_counts()\n",
    "print(\"Number of unique values = \", protocol_value_counts.shape[0], \"\\n\")\n",
    "print(protocol_value_counts)"
   ]
  },
  {
   "cell_type": "code",
   "execution_count": 160,
   "metadata": {},
   "outputs": [
    {
     "name": "stdout",
     "output_type": "stream",
     "text": [
      "Number of unique values =  13 \n",
      "\n",
      "OTH       2914\n",
      "SF        2747\n",
      "S0        1620\n",
      "RSTO      1324\n",
      "REJ        444\n",
      "RSTR       201\n",
      "SH         145\n",
      "S1          78\n",
      "RSTOS0      64\n",
      "SHR         55\n",
      "RSTRH       38\n",
      "S3          18\n",
      "S2           1\n",
      "Name: flag, dtype: int64\n"
     ]
    }
   ],
   "source": [
    "#count the unique values in flag feature(string based)\n",
    "protocol_value_counts = df['flag'].value_counts()\n",
    "print(\"Number of unique values = \", protocol_value_counts.shape[0], \"\\n\")\n",
    "print(protocol_value_counts)"
   ]
  },
  {
   "cell_type": "markdown",
   "metadata": {},
   "source": [
    "### Unique values for each feature in the dataset"
   ]
  },
  {
   "cell_type": "code",
   "execution_count": 161,
   "metadata": {},
   "outputs": [
    {
     "data": {
      "text/plain": [
       "duration                       6429\n",
       "service                           9\n",
       "source_bytes                   1604\n",
       "destination_bytes              1638\n",
       "count                            28\n",
       "same_srv_rate                    29\n",
       "serror_rate                      10\n",
       "srv_serror_rate                  76\n",
       "dst_host_count                  101\n",
       "dst_host_srv_count              101\n",
       "dst_host_same_src_port_rate      37\n",
       "dst_host_serror_rate              4\n",
       "dst_host_srv_serror_rate          4\n",
       "flag                             13\n",
       "source_ip_address               887\n",
       "source_port_number             3196\n",
       "destination_ip_address          486\n",
       "destination_port_number         137\n",
       "start_time                     6311\n",
       "protocol                          3\n",
       "dtype: int64"
      ]
     },
     "execution_count": 161,
     "metadata": {},
     "output_type": "execute_result"
    }
   ],
   "source": [
    "df.T.apply(lambda x: x.nunique(), axis=1)"
   ]
  },
  {
   "cell_type": "markdown",
   "metadata": {},
   "source": [
    "### Removing unnecessary features\n",
    "Everything from source_ip_address to start_time is of no use because these things are really random..."
   ]
  },
  {
   "cell_type": "code",
   "execution_count": 162,
   "metadata": {},
   "outputs": [
    {
     "data": {
      "text/html": [
       "<div>\n",
       "<style scoped>\n",
       "    .dataframe tbody tr th:only-of-type {\n",
       "        vertical-align: middle;\n",
       "    }\n",
       "\n",
       "    .dataframe tbody tr th {\n",
       "        vertical-align: top;\n",
       "    }\n",
       "\n",
       "    .dataframe thead th {\n",
       "        text-align: right;\n",
       "    }\n",
       "</style>\n",
       "<table border=\"1\" class=\"dataframe\">\n",
       "  <thead>\n",
       "    <tr style=\"text-align: right;\">\n",
       "      <th></th>\n",
       "      <th>duration</th>\n",
       "      <th>service</th>\n",
       "      <th>source_bytes</th>\n",
       "      <th>destination_bytes</th>\n",
       "      <th>count</th>\n",
       "      <th>same_srv_rate</th>\n",
       "      <th>serror_rate</th>\n",
       "      <th>srv_serror_rate</th>\n",
       "      <th>dst_host_count</th>\n",
       "      <th>dst_host_srv_count</th>\n",
       "      <th>dst_host_same_src_port_rate</th>\n",
       "      <th>dst_host_serror_rate</th>\n",
       "      <th>dst_host_srv_serror_rate</th>\n",
       "      <th>flag</th>\n",
       "      <th>protocol</th>\n",
       "    </tr>\n",
       "  </thead>\n",
       "  <tbody>\n",
       "    <tr>\n",
       "      <th>0</th>\n",
       "      <td>27.561208</td>\n",
       "      <td>smtp</td>\n",
       "      <td>3179</td>\n",
       "      <td>175</td>\n",
       "      <td>0</td>\n",
       "      <td>0.0</td>\n",
       "      <td>0.0</td>\n",
       "      <td>0.0</td>\n",
       "      <td>0</td>\n",
       "      <td>0</td>\n",
       "      <td>0.0</td>\n",
       "      <td>0.0</td>\n",
       "      <td>0.0</td>\n",
       "      <td>SF</td>\n",
       "      <td>tcp</td>\n",
       "    </tr>\n",
       "    <tr>\n",
       "      <th>1</th>\n",
       "      <td>0.000000</td>\n",
       "      <td>other</td>\n",
       "      <td>0</td>\n",
       "      <td>0</td>\n",
       "      <td>0</td>\n",
       "      <td>0.0</td>\n",
       "      <td>0.0</td>\n",
       "      <td>0.0</td>\n",
       "      <td>0</td>\n",
       "      <td>0</td>\n",
       "      <td>0.0</td>\n",
       "      <td>0.0</td>\n",
       "      <td>0.0</td>\n",
       "      <td>S0</td>\n",
       "      <td>udp</td>\n",
       "    </tr>\n",
       "    <tr>\n",
       "      <th>2</th>\n",
       "      <td>86366.249616</td>\n",
       "      <td>other</td>\n",
       "      <td>244776</td>\n",
       "      <td>0</td>\n",
       "      <td>0</td>\n",
       "      <td>0.0</td>\n",
       "      <td>0.0</td>\n",
       "      <td>0.0</td>\n",
       "      <td>0</td>\n",
       "      <td>0</td>\n",
       "      <td>0.0</td>\n",
       "      <td>0.0</td>\n",
       "      <td>0.0</td>\n",
       "      <td>S0</td>\n",
       "      <td>udp</td>\n",
       "    </tr>\n",
       "    <tr>\n",
       "      <th>3</th>\n",
       "      <td>2994.374758</td>\n",
       "      <td>other</td>\n",
       "      <td>15744</td>\n",
       "      <td>18154</td>\n",
       "      <td>0</td>\n",
       "      <td>0.0</td>\n",
       "      <td>0.0</td>\n",
       "      <td>0.0</td>\n",
       "      <td>0</td>\n",
       "      <td>0</td>\n",
       "      <td>0.0</td>\n",
       "      <td>0.0</td>\n",
       "      <td>0.0</td>\n",
       "      <td>RSTOS0</td>\n",
       "      <td>tcp</td>\n",
       "    </tr>\n",
       "    <tr>\n",
       "      <th>4</th>\n",
       "      <td>4.749378</td>\n",
       "      <td>smtp</td>\n",
       "      <td>7895</td>\n",
       "      <td>244</td>\n",
       "      <td>0</td>\n",
       "      <td>0.0</td>\n",
       "      <td>0.0</td>\n",
       "      <td>0.0</td>\n",
       "      <td>0</td>\n",
       "      <td>0</td>\n",
       "      <td>0.0</td>\n",
       "      <td>0.0</td>\n",
       "      <td>0.0</td>\n",
       "      <td>SF</td>\n",
       "      <td>tcp</td>\n",
       "    </tr>\n",
       "  </tbody>\n",
       "</table>\n",
       "</div>"
      ],
      "text/plain": [
       "       duration service  source_bytes  destination_bytes  count  \\\n",
       "0     27.561208    smtp          3179                175      0   \n",
       "1      0.000000   other             0                  0      0   \n",
       "2  86366.249616   other        244776                  0      0   \n",
       "3   2994.374758   other         15744              18154      0   \n",
       "4      4.749378    smtp          7895                244      0   \n",
       "\n",
       "   same_srv_rate  serror_rate  srv_serror_rate  dst_host_count  \\\n",
       "0            0.0          0.0              0.0               0   \n",
       "1            0.0          0.0              0.0               0   \n",
       "2            0.0          0.0              0.0               0   \n",
       "3            0.0          0.0              0.0               0   \n",
       "4            0.0          0.0              0.0               0   \n",
       "\n",
       "   dst_host_srv_count  dst_host_same_src_port_rate  dst_host_serror_rate  \\\n",
       "0                   0                          0.0                   0.0   \n",
       "1                   0                          0.0                   0.0   \n",
       "2                   0                          0.0                   0.0   \n",
       "3                   0                          0.0                   0.0   \n",
       "4                   0                          0.0                   0.0   \n",
       "\n",
       "   dst_host_srv_serror_rate    flag protocol  \n",
       "0                       0.0      SF      tcp  \n",
       "1                       0.0      S0      udp  \n",
       "2                       0.0      S0      udp  \n",
       "3                       0.0  RSTOS0      tcp  \n",
       "4                       0.0      SF      tcp  "
      ]
     },
     "execution_count": 162,
     "metadata": {},
     "output_type": "execute_result"
    }
   ],
   "source": [
    "df.pop('source_ip_address').values\n",
    "df.pop('source_port_number').values\n",
    "df.pop('destination_ip_address').values\n",
    "df.pop('destination_port_number').values\n",
    "df.pop('start_time').values\n",
    "df.head()"
   ]
  },
  {
   "cell_type": "markdown",
   "metadata": {},
   "source": [
    "### Features to use"
   ]
  },
  {
   "cell_type": "code",
   "execution_count": 163,
   "metadata": {},
   "outputs": [
    {
     "data": {
      "text/plain": [
       "['duration',\n",
       " 'service',\n",
       " 'source_bytes',\n",
       " 'destination_bytes',\n",
       " 'count',\n",
       " 'same_srv_rate',\n",
       " 'serror_rate',\n",
       " 'srv_serror_rate',\n",
       " 'dst_host_count',\n",
       " 'dst_host_srv_count',\n",
       " 'dst_host_same_src_port_rate',\n",
       " 'dst_host_serror_rate',\n",
       " 'dst_host_srv_serror_rate',\n",
       " 'flag',\n",
       " 'protocol']"
      ]
     },
     "execution_count": 163,
     "metadata": {},
     "output_type": "execute_result"
    }
   ],
   "source": [
    "list(df)"
   ]
  },
  {
   "cell_type": "markdown",
   "metadata": {},
   "source": [
    "### Transfrom Catergorical Data to Numerical Data"
   ]
  },
  {
   "cell_type": "code",
   "execution_count": 164,
   "metadata": {},
   "outputs": [],
   "source": [
    "from sklearn import preprocessing"
   ]
  },
  {
   "cell_type": "code",
   "execution_count": 165,
   "metadata": {},
   "outputs": [],
   "source": [
    "#todo: make this run in a loop\n",
    "categorical_data = ['service', 'flag', 'protocol']\n",
    "unique_flag_data = df['flag'].unique()\n",
    "unique_service_data = df['service'].unique()\n",
    "unique_protocol_data = df['protocol'].unique()"
   ]
  },
  {
   "cell_type": "markdown",
   "metadata": {},
   "source": [
    "#### Encoder for feature : Flag"
   ]
  },
  {
   "cell_type": "code",
   "execution_count": 166,
   "metadata": {},
   "outputs": [
    {
     "name": "stdout",
     "output_type": "stream",
     "text": [
      "['SF', 'S0', 'S0', 'RSTOS0', 'SF']\n",
      "[10  6  6  3 10]\n",
      "['SF', 'S0', 'S0', 'RSTOS0', 'SF']\n"
     ]
    },
    {
     "name": "stderr",
     "output_type": "stream",
     "text": [
      "/home/chrx/anaconda3/lib/python3.6/site-packages/sklearn/preprocessing/label.py:151: DeprecationWarning: The truth value of an empty array is ambiguous. Returning False, but in future this will result in an error. Use `array.size > 0` to check that an array is not empty.\n",
      "  if diff:\n"
     ]
    }
   ],
   "source": [
    "le_flag = preprocessing.LabelEncoder()\n",
    "#Fit the label encoder to unique values\n",
    "le_flag.fit(unique_flag_data)\n",
    "\n",
    "#Fit the label data to some example data\n",
    "example_flag_data = list(df.head()['flag'])\n",
    "#Fit the label encoder and return encoded labels\n",
    "encoded_flag_data = le_flag.transform(example_flag_data)\n",
    "\n",
    "#Transform labels back to original encoding\n",
    "decoded_flag_data = list(le_flag.inverse_transform(encoded_flag_data))\n",
    "\n",
    "print(example_flag_data)\n",
    "print(encoded_flag_data)\n",
    "print(decoded_flag_data)\n",
    "#Ignore any warnings"
   ]
  },
  {
   "cell_type": "markdown",
   "metadata": {},
   "source": [
    "#### Encoder for feature : service and protocol"
   ]
  },
  {
   "cell_type": "code",
   "execution_count": 167,
   "metadata": {},
   "outputs": [
    {
     "data": {
      "text/plain": [
       "LabelEncoder()"
      ]
     },
     "execution_count": 167,
     "metadata": {},
     "output_type": "execute_result"
    }
   ],
   "source": [
    "le_service = preprocessing.LabelEncoder()\n",
    "le_service.fit(unique_service_data)\n",
    "\n",
    "le_protocol = preprocessing.LabelEncoder()\n",
    "le_protocol.fit(unique_protocol_data)"
   ]
  },
  {
   "cell_type": "code",
   "execution_count": 168,
   "metadata": {},
   "outputs": [
    {
     "data": {
      "text/html": [
       "<div>\n",
       "<style scoped>\n",
       "    .dataframe tbody tr th:only-of-type {\n",
       "        vertical-align: middle;\n",
       "    }\n",
       "\n",
       "    .dataframe tbody tr th {\n",
       "        vertical-align: top;\n",
       "    }\n",
       "\n",
       "    .dataframe thead th {\n",
       "        text-align: right;\n",
       "    }\n",
       "</style>\n",
       "<table border=\"1\" class=\"dataframe\">\n",
       "  <thead>\n",
       "    <tr style=\"text-align: right;\">\n",
       "      <th></th>\n",
       "      <th>duration</th>\n",
       "      <th>service</th>\n",
       "      <th>source_bytes</th>\n",
       "      <th>destination_bytes</th>\n",
       "      <th>count</th>\n",
       "      <th>same_srv_rate</th>\n",
       "      <th>serror_rate</th>\n",
       "      <th>srv_serror_rate</th>\n",
       "      <th>dst_host_count</th>\n",
       "      <th>dst_host_srv_count</th>\n",
       "      <th>dst_host_same_src_port_rate</th>\n",
       "      <th>dst_host_serror_rate</th>\n",
       "      <th>dst_host_srv_serror_rate</th>\n",
       "      <th>flag</th>\n",
       "      <th>protocol</th>\n",
       "    </tr>\n",
       "  </thead>\n",
       "  <tbody>\n",
       "    <tr>\n",
       "      <th>0</th>\n",
       "      <td>27.561208</td>\n",
       "      <td>5</td>\n",
       "      <td>3179</td>\n",
       "      <td>175</td>\n",
       "      <td>0</td>\n",
       "      <td>0.0</td>\n",
       "      <td>0.0</td>\n",
       "      <td>0.0</td>\n",
       "      <td>0</td>\n",
       "      <td>0</td>\n",
       "      <td>0.0</td>\n",
       "      <td>0.0</td>\n",
       "      <td>0.0</td>\n",
       "      <td>10</td>\n",
       "      <td>1</td>\n",
       "    </tr>\n",
       "    <tr>\n",
       "      <th>1</th>\n",
       "      <td>0.000000</td>\n",
       "      <td>4</td>\n",
       "      <td>0</td>\n",
       "      <td>0</td>\n",
       "      <td>0</td>\n",
       "      <td>0.0</td>\n",
       "      <td>0.0</td>\n",
       "      <td>0.0</td>\n",
       "      <td>0</td>\n",
       "      <td>0</td>\n",
       "      <td>0.0</td>\n",
       "      <td>0.0</td>\n",
       "      <td>0.0</td>\n",
       "      <td>6</td>\n",
       "      <td>2</td>\n",
       "    </tr>\n",
       "    <tr>\n",
       "      <th>2</th>\n",
       "      <td>86366.249616</td>\n",
       "      <td>4</td>\n",
       "      <td>244776</td>\n",
       "      <td>0</td>\n",
       "      <td>0</td>\n",
       "      <td>0.0</td>\n",
       "      <td>0.0</td>\n",
       "      <td>0.0</td>\n",
       "      <td>0</td>\n",
       "      <td>0</td>\n",
       "      <td>0.0</td>\n",
       "      <td>0.0</td>\n",
       "      <td>0.0</td>\n",
       "      <td>6</td>\n",
       "      <td>2</td>\n",
       "    </tr>\n",
       "    <tr>\n",
       "      <th>3</th>\n",
       "      <td>2994.374758</td>\n",
       "      <td>4</td>\n",
       "      <td>15744</td>\n",
       "      <td>18154</td>\n",
       "      <td>0</td>\n",
       "      <td>0.0</td>\n",
       "      <td>0.0</td>\n",
       "      <td>0.0</td>\n",
       "      <td>0</td>\n",
       "      <td>0</td>\n",
       "      <td>0.0</td>\n",
       "      <td>0.0</td>\n",
       "      <td>0.0</td>\n",
       "      <td>3</td>\n",
       "      <td>1</td>\n",
       "    </tr>\n",
       "    <tr>\n",
       "      <th>4</th>\n",
       "      <td>4.749378</td>\n",
       "      <td>5</td>\n",
       "      <td>7895</td>\n",
       "      <td>244</td>\n",
       "      <td>0</td>\n",
       "      <td>0.0</td>\n",
       "      <td>0.0</td>\n",
       "      <td>0.0</td>\n",
       "      <td>0</td>\n",
       "      <td>0</td>\n",
       "      <td>0.0</td>\n",
       "      <td>0.0</td>\n",
       "      <td>0.0</td>\n",
       "      <td>10</td>\n",
       "      <td>1</td>\n",
       "    </tr>\n",
       "  </tbody>\n",
       "</table>\n",
       "</div>"
      ],
      "text/plain": [
       "       duration  service  source_bytes  destination_bytes  count  \\\n",
       "0     27.561208        5          3179                175      0   \n",
       "1      0.000000        4             0                  0      0   \n",
       "2  86366.249616        4        244776                  0      0   \n",
       "3   2994.374758        4         15744              18154      0   \n",
       "4      4.749378        5          7895                244      0   \n",
       "\n",
       "   same_srv_rate  serror_rate  srv_serror_rate  dst_host_count  \\\n",
       "0            0.0          0.0              0.0               0   \n",
       "1            0.0          0.0              0.0               0   \n",
       "2            0.0          0.0              0.0               0   \n",
       "3            0.0          0.0              0.0               0   \n",
       "4            0.0          0.0              0.0               0   \n",
       "\n",
       "   dst_host_srv_count  dst_host_same_src_port_rate  dst_host_serror_rate  \\\n",
       "0                   0                          0.0                   0.0   \n",
       "1                   0                          0.0                   0.0   \n",
       "2                   0                          0.0                   0.0   \n",
       "3                   0                          0.0                   0.0   \n",
       "4                   0                          0.0                   0.0   \n",
       "\n",
       "   dst_host_srv_serror_rate  flag  protocol  \n",
       "0                       0.0    10         1  \n",
       "1                       0.0     6         2  \n",
       "2                       0.0     6         2  \n",
       "3                       0.0     3         1  \n",
       "4                       0.0    10         1  "
      ]
     },
     "execution_count": 168,
     "metadata": {},
     "output_type": "execute_result"
    }
   ],
   "source": [
    "df['flag'] = le_flag.transform(df['flag'])\n",
    "df['service'] = le_service.transform(df['service'])\n",
    "df['protocol'] = le_protocol.transform(df['protocol'])\n",
    "df.head()"
   ]
  },
  {
   "cell_type": "markdown",
   "metadata": {},
   "source": [
    "### PCA"
   ]
  },
  {
   "cell_type": "code",
   "execution_count": 169,
   "metadata": {},
   "outputs": [],
   "source": [
    "from sklearn.decomposition import PCA\n",
    "\n",
    "pca = PCA(n_components = 2)\n",
    "X_pca = pd.DataFrame(pca.fit_transform(df))"
   ]
  },
  {
   "cell_type": "code",
   "execution_count": 170,
   "metadata": {},
   "outputs": [
    {
     "data": {
      "text/html": [
       "<div>\n",
       "<style scoped>\n",
       "    .dataframe tbody tr th:only-of-type {\n",
       "        vertical-align: middle;\n",
       "    }\n",
       "\n",
       "    .dataframe tbody tr th {\n",
       "        vertical-align: top;\n",
       "    }\n",
       "\n",
       "    .dataframe thead th {\n",
       "        text-align: right;\n",
       "    }\n",
       "</style>\n",
       "<table border=\"1\" class=\"dataframe\">\n",
       "  <thead>\n",
       "    <tr style=\"text-align: right;\">\n",
       "      <th></th>\n",
       "      <th>0</th>\n",
       "      <th>1</th>\n",
       "    </tr>\n",
       "  </thead>\n",
       "  <tbody>\n",
       "    <tr>\n",
       "      <th>0</th>\n",
       "      <td>-6008.096788</td>\n",
       "      <td>1896.655989</td>\n",
       "    </tr>\n",
       "    <tr>\n",
       "      <th>1</th>\n",
       "      <td>-6268.392815</td>\n",
       "      <td>-1276.607341</td>\n",
       "    </tr>\n",
       "    <tr>\n",
       "      <th>2</th>\n",
       "      <td>323.075561</td>\n",
       "      <td>243925.283539</td>\n",
       "    </tr>\n",
       "    <tr>\n",
       "      <th>3</th>\n",
       "      <td>12302.448013</td>\n",
       "      <td>13991.979072</td>\n",
       "    </tr>\n",
       "    <tr>\n",
       "      <th>4</th>\n",
       "      <td>-5812.507031</td>\n",
       "      <td>6608.881123</td>\n",
       "    </tr>\n",
       "  </tbody>\n",
       "</table>\n",
       "</div>"
      ],
      "text/plain": [
       "              0              1\n",
       "0  -6008.096788    1896.655989\n",
       "1  -6268.392815   -1276.607341\n",
       "2    323.075561  243925.283539\n",
       "3  12302.448013   13991.979072\n",
       "4  -5812.507031    6608.881123"
      ]
     },
     "execution_count": 170,
     "metadata": {},
     "output_type": "execute_result"
    }
   ],
   "source": [
    "X_pca.head()"
   ]
  },
  {
   "cell_type": "code",
   "execution_count": 171,
   "metadata": {},
   "outputs": [],
   "source": [
    "def xnor(ar1, ar2):\n",
    "    ar3 = np.array([])\n",
    "    for i in range(0,ar1.shape[0]):\n",
    "        if(ar1[i] == ar2[i]):\n",
    "            res = 1\n",
    "        else: res = 0\n",
    "        ar3 = np.append(ar3, res)\n",
    "    return ar3.astype(int)"
   ]
  },
  {
   "cell_type": "code",
   "execution_count": 172,
   "metadata": {},
   "outputs": [
    {
     "name": "stdout",
     "output_type": "stream",
     "text": [
      "correct :  1063\n",
      "[[-1.91734729e+03  3.47752292e+01]\n",
      " [ 1.08634642e+06 -1.97032358e+04]]\n"
     ]
    }
   ],
   "source": [
    "from sklearn.cluster import KMeans\n",
    "kmeans = KMeans(n_clusters = 2, random_state = 0).fit(X_pca)\n",
    "print('correct : ',np.count_nonzero(xnor(kmeans.labels_, y)))\n",
    "print(kmeans.cluster_centers_)"
   ]
  },
  {
   "cell_type": "code",
   "execution_count": 173,
   "metadata": {},
   "outputs": [
    {
     "name": "stdout",
     "output_type": "stream",
     "text": [
      "correct :  1063\n",
      "[[ 3.97929797e+01  3.84509967e+00  1.42752253e+03  4.31426537e+03\n",
      "   1.00197259e+00  2.25241902e-01  2.04516196e-02  6.75166113e-02\n",
      "   1.95101744e+01  2.52756437e+01  2.05276163e-01  3.62572674e-02\n",
      "   6.10818106e-02  4.60350914e+00  1.06177326e+00]\n",
      " [ 1.64987982e+02  3.29411765e+00  1.09157647e+04  1.09271565e+06\n",
      "   8.23529412e-01  4.70588235e-01  3.46944695e-18  1.38777878e-17\n",
      "   1.70588235e+01  1.70588235e+01  0.00000000e+00 -6.93889390e-18\n",
      "  -1.38777878e-17  5.76470588e+00  1.00000000e+00]]\n"
     ]
    }
   ],
   "source": [
    "km = KMeans(n_clusters = 2, random_state = 0).fit(df)\n",
    "print('correct : ',np.count_nonzero(xnor(kmeans.labels_, y)))\n",
    "print(km.cluster_centers_)"
   ]
  },
  {
   "cell_type": "code",
   "execution_count": null,
   "metadata": {},
   "outputs": [],
   "source": []
  },
  {
   "cell_type": "markdown",
   "metadata": {},
   "source": [
    "### Using regression"
   ]
  },
  {
   "cell_type": "code",
   "execution_count": 174,
   "metadata": {},
   "outputs": [],
   "source": [
    "# Use train_test_split in sklearn.cross_validation to split data into train and test sets\n",
    "from sklearn.cross_validation import train_test_split\n",
    "\n",
    "X_train, X_test, y_train, y_test = train_test_split(df, y, train_size=0.70, random_state=1)"
   ]
  },
  {
   "cell_type": "code",
   "execution_count": 175,
   "metadata": {},
   "outputs": [],
   "source": [
    "# Function to build model and find model performance\n",
    "from sklearn.linear_model import LogisticRegression\n",
    "from sklearn.metrics import roc_auc_score\n",
    "\n",
    "def find_model_perf(X_train, y_train, X_test, y_test):\n",
    "    model = LogisticRegression()\n",
    "    model.fit(X_train, y_train)\n",
    "    y_hat = [x[1] for x in model.predict_proba(X_test)]\n",
    "    auc = roc_auc_score(y_test, y_hat)\n",
    "    \n",
    "    return auc"
   ]
  },
  {
   "cell_type": "code",
   "execution_count": 176,
   "metadata": {},
   "outputs": [
    {
     "name": "stdout",
     "output_type": "stream",
     "text": [
      "0.9328300970873785\n"
     ]
    }
   ],
   "source": [
    "# Find performance of model using preprocessed data\n",
    "auc_processed = find_model_perf(X_train, y_train, X_test, y_test)\n",
    "print(auc_processed)"
   ]
  },
  {
   "cell_type": "code",
   "execution_count": null,
   "metadata": {},
   "outputs": [],
   "source": []
  }
 ],
 "metadata": {
  "kernelspec": {
   "display_name": "Python 3",
   "language": "python",
   "name": "python3"
  },
  "language_info": {
   "codemirror_mode": {
    "name": "ipython",
    "version": 3
   },
   "file_extension": ".py",
   "mimetype": "text/x-python",
   "name": "python",
   "nbconvert_exporter": "python",
   "pygments_lexer": "ipython3",
   "version": "3.6.5"
  }
 },
 "nbformat": 4,
 "nbformat_minor": 2
}
