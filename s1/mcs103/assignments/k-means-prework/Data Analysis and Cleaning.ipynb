{
 "cells": [
  {
   "cell_type": "code",
   "execution_count": 1,
   "metadata": {},
   "outputs": [],
   "source": [
    "import numpy as np\n",
    "import pandas as pd"
   ]
  },
  {
   "cell_type": "markdown",
   "metadata": {},
   "source": [
    "### Import the dataset"
   ]
  },
  {
   "cell_type": "code",
   "execution_count": 2,
   "metadata": {},
   "outputs": [],
   "source": [
    "df = pd.read_csv('20061101.txt', sep = \"\\t\", header = None)\n",
    "column_list = [\n",
    "    'duration',\n",
    "    'service',\n",
    "    'source_bytes',\n",
    "    'destination_bytes',\n",
    "    'count',\n",
    "    'same_srv_rate',\n",
    "    'serror_rate',\n",
    "    'srv_serror_rate',\n",
    "    'dst_host_count',\n",
    "    'dst_host_srv_count',\n",
    "    'dst_host_same_src_port_rate',\n",
    "    'dst_host_serror_rate',\n",
    "    'dst_host_srv_serror_rate',\n",
    "    'flag',\n",
    "    'ids_detection',\n",
    "    'malware_detection',\n",
    "    'ashula_detection',\n",
    "    'label',\n",
    "    'source_ip_address',\n",
    "    'source_port_number',\n",
    "    'destination_ip_address',\n",
    "    'destination_port_number',\n",
    "    'start_time',\n",
    "    'protocol'\n",
    "]\n",
    "df.columns = column_list"
   ]
  },
  {
   "cell_type": "code",
   "execution_count": 3,
   "metadata": {},
   "outputs": [
    {
     "data": {
      "text/html": [
       "<div>\n",
       "<style scoped>\n",
       "    .dataframe tbody tr th:only-of-type {\n",
       "        vertical-align: middle;\n",
       "    }\n",
       "\n",
       "    .dataframe tbody tr th {\n",
       "        vertical-align: top;\n",
       "    }\n",
       "\n",
       "    .dataframe thead th {\n",
       "        text-align: right;\n",
       "    }\n",
       "</style>\n",
       "<table border=\"1\" class=\"dataframe\">\n",
       "  <thead>\n",
       "    <tr style=\"text-align: right;\">\n",
       "      <th></th>\n",
       "      <th>duration</th>\n",
       "      <th>service</th>\n",
       "      <th>source_bytes</th>\n",
       "      <th>destination_bytes</th>\n",
       "      <th>count</th>\n",
       "      <th>same_srv_rate</th>\n",
       "      <th>serror_rate</th>\n",
       "      <th>srv_serror_rate</th>\n",
       "      <th>dst_host_count</th>\n",
       "      <th>dst_host_srv_count</th>\n",
       "      <th>...</th>\n",
       "      <th>ids_detection</th>\n",
       "      <th>malware_detection</th>\n",
       "      <th>ashula_detection</th>\n",
       "      <th>label</th>\n",
       "      <th>source_ip_address</th>\n",
       "      <th>source_port_number</th>\n",
       "      <th>destination_ip_address</th>\n",
       "      <th>destination_port_number</th>\n",
       "      <th>start_time</th>\n",
       "      <th>protocol</th>\n",
       "    </tr>\n",
       "  </thead>\n",
       "  <tbody>\n",
       "    <tr>\n",
       "      <th>0</th>\n",
       "      <td>27.561208</td>\n",
       "      <td>smtp</td>\n",
       "      <td>3179</td>\n",
       "      <td>175</td>\n",
       "      <td>0</td>\n",
       "      <td>0.0</td>\n",
       "      <td>0.0</td>\n",
       "      <td>0.0</td>\n",
       "      <td>0</td>\n",
       "      <td>0</td>\n",
       "      <td>...</td>\n",
       "      <td>0</td>\n",
       "      <td>0</td>\n",
       "      <td>0</td>\n",
       "      <td>1</td>\n",
       "      <td>fda2:69aa:1f1a:84b0:130d:2736:3fa0:42da</td>\n",
       "      <td>2161</td>\n",
       "      <td>fda2:69aa:1f1a:61a4:7dc5:27f2:0713:0f0e</td>\n",
       "      <td>25</td>\n",
       "      <td>00:00:09</td>\n",
       "      <td>tcp</td>\n",
       "    </tr>\n",
       "    <tr>\n",
       "      <th>1</th>\n",
       "      <td>0.000000</td>\n",
       "      <td>other</td>\n",
       "      <td>0</td>\n",
       "      <td>0</td>\n",
       "      <td>0</td>\n",
       "      <td>0.0</td>\n",
       "      <td>0.0</td>\n",
       "      <td>0.0</td>\n",
       "      <td>0</td>\n",
       "      <td>0</td>\n",
       "      <td>...</td>\n",
       "      <td>0</td>\n",
       "      <td>0</td>\n",
       "      <td>0</td>\n",
       "      <td>-1</td>\n",
       "      <td>fda2:69aa:1f1a:0104:3fff:571a:ff2c:00a5</td>\n",
       "      <td>138</td>\n",
       "      <td>fda2:69aa:1f1a:2108:3f84:570e:ffe4:007b</td>\n",
       "      <td>138</td>\n",
       "      <td>00:00:14</td>\n",
       "      <td>udp</td>\n",
       "    </tr>\n",
       "    <tr>\n",
       "      <th>2</th>\n",
       "      <td>86366.249616</td>\n",
       "      <td>other</td>\n",
       "      <td>244776</td>\n",
       "      <td>0</td>\n",
       "      <td>0</td>\n",
       "      <td>0.0</td>\n",
       "      <td>0.0</td>\n",
       "      <td>0.0</td>\n",
       "      <td>0</td>\n",
       "      <td>0</td>\n",
       "      <td>...</td>\n",
       "      <td>0</td>\n",
       "      <td>0</td>\n",
       "      <td>0</td>\n",
       "      <td>-1</td>\n",
       "      <td>fda2:69aa:1f1a:540c:7d80:2750:07a6:28a5</td>\n",
       "      <td>32770</td>\n",
       "      <td>fda2:69aa:1f1a:0d61:1001:01e2:02fb:2a22</td>\n",
       "      <td>8649</td>\n",
       "      <td>00:00:15</td>\n",
       "      <td>udp</td>\n",
       "    </tr>\n",
       "    <tr>\n",
       "      <th>3</th>\n",
       "      <td>2994.374758</td>\n",
       "      <td>other</td>\n",
       "      <td>15744</td>\n",
       "      <td>18154</td>\n",
       "      <td>0</td>\n",
       "      <td>0.0</td>\n",
       "      <td>0.0</td>\n",
       "      <td>0.0</td>\n",
       "      <td>0</td>\n",
       "      <td>0</td>\n",
       "      <td>...</td>\n",
       "      <td>0</td>\n",
       "      <td>0</td>\n",
       "      <td>0</td>\n",
       "      <td>-1</td>\n",
       "      <td>fda2:69aa:1f1a:3aef:7af3:3027:3045:7ff2</td>\n",
       "      <td>1400</td>\n",
       "      <td>fda2:69aa:1f1a:e714:277f:10e1:03f2:425a</td>\n",
       "      <td>80</td>\n",
       "      <td>00:00:16</td>\n",
       "      <td>tcp</td>\n",
       "    </tr>\n",
       "    <tr>\n",
       "      <th>4</th>\n",
       "      <td>4.749378</td>\n",
       "      <td>smtp</td>\n",
       "      <td>7895</td>\n",
       "      <td>244</td>\n",
       "      <td>0</td>\n",
       "      <td>0.0</td>\n",
       "      <td>0.0</td>\n",
       "      <td>0.0</td>\n",
       "      <td>0</td>\n",
       "      <td>0</td>\n",
       "      <td>...</td>\n",
       "      <td>0</td>\n",
       "      <td>0</td>\n",
       "      <td>0</td>\n",
       "      <td>1</td>\n",
       "      <td>fda2:69aa:1f1a:381e:25aa:0bff:12e8:0365</td>\n",
       "      <td>1806</td>\n",
       "      <td>fda2:69aa:1f1a:61a4:7dc5:27f2:0713:0f0e</td>\n",
       "      <td>25</td>\n",
       "      <td>00:00:17</td>\n",
       "      <td>tcp</td>\n",
       "    </tr>\n",
       "  </tbody>\n",
       "</table>\n",
       "<p>5 rows × 24 columns</p>\n",
       "</div>"
      ],
      "text/plain": [
       "       duration service  source_bytes  destination_bytes  count  \\\n",
       "0     27.561208    smtp          3179                175      0   \n",
       "1      0.000000   other             0                  0      0   \n",
       "2  86366.249616   other        244776                  0      0   \n",
       "3   2994.374758   other         15744              18154      0   \n",
       "4      4.749378    smtp          7895                244      0   \n",
       "\n",
       "   same_srv_rate  serror_rate  srv_serror_rate  dst_host_count  \\\n",
       "0            0.0          0.0              0.0               0   \n",
       "1            0.0          0.0              0.0               0   \n",
       "2            0.0          0.0              0.0               0   \n",
       "3            0.0          0.0              0.0               0   \n",
       "4            0.0          0.0              0.0               0   \n",
       "\n",
       "   dst_host_srv_count    ...     ids_detection  malware_detection  \\\n",
       "0                   0    ...                 0                  0   \n",
       "1                   0    ...                 0                  0   \n",
       "2                   0    ...                 0                  0   \n",
       "3                   0    ...                 0                  0   \n",
       "4                   0    ...                 0                  0   \n",
       "\n",
       "   ashula_detection label                        source_ip_address  \\\n",
       "0                 0     1  fda2:69aa:1f1a:84b0:130d:2736:3fa0:42da   \n",
       "1                 0    -1  fda2:69aa:1f1a:0104:3fff:571a:ff2c:00a5   \n",
       "2                 0    -1  fda2:69aa:1f1a:540c:7d80:2750:07a6:28a5   \n",
       "3                 0    -1  fda2:69aa:1f1a:3aef:7af3:3027:3045:7ff2   \n",
       "4                 0     1  fda2:69aa:1f1a:381e:25aa:0bff:12e8:0365   \n",
       "\n",
       "  source_port_number                   destination_ip_address  \\\n",
       "0               2161  fda2:69aa:1f1a:61a4:7dc5:27f2:0713:0f0e   \n",
       "1                138  fda2:69aa:1f1a:2108:3f84:570e:ffe4:007b   \n",
       "2              32770  fda2:69aa:1f1a:0d61:1001:01e2:02fb:2a22   \n",
       "3               1400  fda2:69aa:1f1a:e714:277f:10e1:03f2:425a   \n",
       "4               1806  fda2:69aa:1f1a:61a4:7dc5:27f2:0713:0f0e   \n",
       "\n",
       "   destination_port_number start_time  protocol  \n",
       "0                       25   00:00:09       tcp  \n",
       "1                      138   00:00:14       udp  \n",
       "2                     8649   00:00:15       udp  \n",
       "3                       80   00:00:16       tcp  \n",
       "4                       25   00:00:17       tcp  \n",
       "\n",
       "[5 rows x 24 columns]"
      ]
     },
     "execution_count": 3,
     "metadata": {},
     "output_type": "execute_result"
    }
   ],
   "source": [
    "df.head()"
   ]
  },
  {
   "cell_type": "code",
   "execution_count": 4,
   "metadata": {},
   "outputs": [
    {
     "data": {
      "text/plain": [
       "(9649, 24)"
      ]
     },
     "execution_count": 4,
     "metadata": {},
     "output_type": "execute_result"
    }
   ],
   "source": [
    "df.shape"
   ]
  },
  {
   "cell_type": "markdown",
   "metadata": {},
   "source": [
    "### Remove the target variable from the dataset\n",
    "the target variable will be a combination of `label`, `ids_detection`, `malware_detection`, `ashula_detection`"
   ]
  },
  {
   "cell_type": "code",
   "execution_count": 5,
   "metadata": {},
   "outputs": [
    {
     "data": {
      "text/plain": [
       "(9649, 20)"
      ]
     },
     "execution_count": 5,
     "metadata": {},
     "output_type": "execute_result"
    }
   ],
   "source": [
    "y = df.pop('label').values\n",
    "ids_detection_target = df.pop('ids_detection').values\n",
    "malware_detection_target = df.pop('malware_detection').values\n",
    "ashula_detection_target = df.pop('ashula_detection').values\n",
    "df.shape"
   ]
  },
  {
   "cell_type": "markdown",
   "metadata": {},
   "source": [
    "### Checking String Based Features"
   ]
  },
  {
   "cell_type": "code",
   "execution_count": 6,
   "metadata": {},
   "outputs": [
    {
     "name": "stdout",
     "output_type": "stream",
     "text": [
      "Number of unique values =  9 \n",
      "\n",
      "other       6046\n",
      "http        2186\n",
      "smtp         677\n",
      "dns          327\n",
      "ssh          280\n",
      "ssl          122\n",
      "ftp            5\n",
      "ftp-data       3\n",
      "smtp,ssl       3\n",
      "Name: service, dtype: int64\n"
     ]
    }
   ],
   "source": [
    "#count the unique values in service feature(string based)\n",
    "service_value_counts = df['service'].value_counts()\n",
    "print(\"Number of unique values = \", service_value_counts.shape[0], \"\\n\")\n",
    "print(service_value_counts)"
   ]
  },
  {
   "cell_type": "code",
   "execution_count": 7,
   "metadata": {},
   "outputs": [
    {
     "name": "stdout",
     "output_type": "stream",
     "text": [
      "Number of unique values =  3 \n",
      "\n",
      "tcp     6934\n",
      "udp     1655\n",
      "icmp    1060\n",
      "Name: protocol, dtype: int64\n"
     ]
    }
   ],
   "source": [
    "#count the unique values in protocol feature(string based)\n",
    "protocol_value_counts = df['protocol'].value_counts()\n",
    "print(\"Number of unique values = \", protocol_value_counts.shape[0], \"\\n\")\n",
    "print(protocol_value_counts)"
   ]
  },
  {
   "cell_type": "code",
   "execution_count": 8,
   "metadata": {},
   "outputs": [
    {
     "name": "stdout",
     "output_type": "stream",
     "text": [
      "Number of unique values =  13 \n",
      "\n",
      "OTH       2914\n",
      "SF        2747\n",
      "S0        1620\n",
      "RSTO      1324\n",
      "REJ        444\n",
      "RSTR       201\n",
      "SH         145\n",
      "S1          78\n",
      "RSTOS0      64\n",
      "SHR         55\n",
      "RSTRH       38\n",
      "S3          18\n",
      "S2           1\n",
      "Name: flag, dtype: int64\n"
     ]
    }
   ],
   "source": [
    "#count the unique values in flag feature(string based)\n",
    "protocol_value_counts = df['flag'].value_counts()\n",
    "print(\"Number of unique values = \", protocol_value_counts.shape[0], \"\\n\")\n",
    "print(protocol_value_counts)"
   ]
  },
  {
   "cell_type": "markdown",
   "metadata": {},
   "source": [
    "### Unique values for each feature in the dataset"
   ]
  },
  {
   "cell_type": "code",
   "execution_count": 9,
   "metadata": {},
   "outputs": [
    {
     "data": {
      "text/plain": [
       "duration                       6429\n",
       "service                           9\n",
       "source_bytes                   1604\n",
       "destination_bytes              1638\n",
       "count                            28\n",
       "same_srv_rate                    29\n",
       "serror_rate                      10\n",
       "srv_serror_rate                  76\n",
       "dst_host_count                  101\n",
       "dst_host_srv_count              101\n",
       "dst_host_same_src_port_rate      37\n",
       "dst_host_serror_rate              4\n",
       "dst_host_srv_serror_rate          4\n",
       "flag                             13\n",
       "source_ip_address               887\n",
       "source_port_number             3196\n",
       "destination_ip_address          486\n",
       "destination_port_number         137\n",
       "start_time                     6311\n",
       "protocol                          3\n",
       "dtype: int64"
      ]
     },
     "execution_count": 9,
     "metadata": {},
     "output_type": "execute_result"
    }
   ],
   "source": [
    "df.T.apply(lambda x: x.nunique(), axis=1)"
   ]
  },
  {
   "cell_type": "markdown",
   "metadata": {},
   "source": [
    "### Removing unnecessary features\n",
    "Everything from source_ip_address to start_time is of no use because these things are really random..."
   ]
  },
  {
   "cell_type": "code",
   "execution_count": 10,
   "metadata": {},
   "outputs": [
    {
     "data": {
      "text/html": [
       "<div>\n",
       "<style scoped>\n",
       "    .dataframe tbody tr th:only-of-type {\n",
       "        vertical-align: middle;\n",
       "    }\n",
       "\n",
       "    .dataframe tbody tr th {\n",
       "        vertical-align: top;\n",
       "    }\n",
       "\n",
       "    .dataframe thead th {\n",
       "        text-align: right;\n",
       "    }\n",
       "</style>\n",
       "<table border=\"1\" class=\"dataframe\">\n",
       "  <thead>\n",
       "    <tr style=\"text-align: right;\">\n",
       "      <th></th>\n",
       "      <th>duration</th>\n",
       "      <th>service</th>\n",
       "      <th>source_bytes</th>\n",
       "      <th>destination_bytes</th>\n",
       "      <th>count</th>\n",
       "      <th>same_srv_rate</th>\n",
       "      <th>serror_rate</th>\n",
       "      <th>srv_serror_rate</th>\n",
       "      <th>dst_host_count</th>\n",
       "      <th>dst_host_srv_count</th>\n",
       "      <th>dst_host_same_src_port_rate</th>\n",
       "      <th>dst_host_serror_rate</th>\n",
       "      <th>dst_host_srv_serror_rate</th>\n",
       "      <th>flag</th>\n",
       "      <th>protocol</th>\n",
       "    </tr>\n",
       "  </thead>\n",
       "  <tbody>\n",
       "    <tr>\n",
       "      <th>0</th>\n",
       "      <td>27.561208</td>\n",
       "      <td>smtp</td>\n",
       "      <td>3179</td>\n",
       "      <td>175</td>\n",
       "      <td>0</td>\n",
       "      <td>0.0</td>\n",
       "      <td>0.0</td>\n",
       "      <td>0.0</td>\n",
       "      <td>0</td>\n",
       "      <td>0</td>\n",
       "      <td>0.0</td>\n",
       "      <td>0.0</td>\n",
       "      <td>0.0</td>\n",
       "      <td>SF</td>\n",
       "      <td>tcp</td>\n",
       "    </tr>\n",
       "    <tr>\n",
       "      <th>1</th>\n",
       "      <td>0.000000</td>\n",
       "      <td>other</td>\n",
       "      <td>0</td>\n",
       "      <td>0</td>\n",
       "      <td>0</td>\n",
       "      <td>0.0</td>\n",
       "      <td>0.0</td>\n",
       "      <td>0.0</td>\n",
       "      <td>0</td>\n",
       "      <td>0</td>\n",
       "      <td>0.0</td>\n",
       "      <td>0.0</td>\n",
       "      <td>0.0</td>\n",
       "      <td>S0</td>\n",
       "      <td>udp</td>\n",
       "    </tr>\n",
       "    <tr>\n",
       "      <th>2</th>\n",
       "      <td>86366.249616</td>\n",
       "      <td>other</td>\n",
       "      <td>244776</td>\n",
       "      <td>0</td>\n",
       "      <td>0</td>\n",
       "      <td>0.0</td>\n",
       "      <td>0.0</td>\n",
       "      <td>0.0</td>\n",
       "      <td>0</td>\n",
       "      <td>0</td>\n",
       "      <td>0.0</td>\n",
       "      <td>0.0</td>\n",
       "      <td>0.0</td>\n",
       "      <td>S0</td>\n",
       "      <td>udp</td>\n",
       "    </tr>\n",
       "    <tr>\n",
       "      <th>3</th>\n",
       "      <td>2994.374758</td>\n",
       "      <td>other</td>\n",
       "      <td>15744</td>\n",
       "      <td>18154</td>\n",
       "      <td>0</td>\n",
       "      <td>0.0</td>\n",
       "      <td>0.0</td>\n",
       "      <td>0.0</td>\n",
       "      <td>0</td>\n",
       "      <td>0</td>\n",
       "      <td>0.0</td>\n",
       "      <td>0.0</td>\n",
       "      <td>0.0</td>\n",
       "      <td>RSTOS0</td>\n",
       "      <td>tcp</td>\n",
       "    </tr>\n",
       "    <tr>\n",
       "      <th>4</th>\n",
       "      <td>4.749378</td>\n",
       "      <td>smtp</td>\n",
       "      <td>7895</td>\n",
       "      <td>244</td>\n",
       "      <td>0</td>\n",
       "      <td>0.0</td>\n",
       "      <td>0.0</td>\n",
       "      <td>0.0</td>\n",
       "      <td>0</td>\n",
       "      <td>0</td>\n",
       "      <td>0.0</td>\n",
       "      <td>0.0</td>\n",
       "      <td>0.0</td>\n",
       "      <td>SF</td>\n",
       "      <td>tcp</td>\n",
       "    </tr>\n",
       "  </tbody>\n",
       "</table>\n",
       "</div>"
      ],
      "text/plain": [
       "       duration service  source_bytes  destination_bytes  count  \\\n",
       "0     27.561208    smtp          3179                175      0   \n",
       "1      0.000000   other             0                  0      0   \n",
       "2  86366.249616   other        244776                  0      0   \n",
       "3   2994.374758   other         15744              18154      0   \n",
       "4      4.749378    smtp          7895                244      0   \n",
       "\n",
       "   same_srv_rate  serror_rate  srv_serror_rate  dst_host_count  \\\n",
       "0            0.0          0.0              0.0               0   \n",
       "1            0.0          0.0              0.0               0   \n",
       "2            0.0          0.0              0.0               0   \n",
       "3            0.0          0.0              0.0               0   \n",
       "4            0.0          0.0              0.0               0   \n",
       "\n",
       "   dst_host_srv_count  dst_host_same_src_port_rate  dst_host_serror_rate  \\\n",
       "0                   0                          0.0                   0.0   \n",
       "1                   0                          0.0                   0.0   \n",
       "2                   0                          0.0                   0.0   \n",
       "3                   0                          0.0                   0.0   \n",
       "4                   0                          0.0                   0.0   \n",
       "\n",
       "   dst_host_srv_serror_rate    flag protocol  \n",
       "0                       0.0      SF      tcp  \n",
       "1                       0.0      S0      udp  \n",
       "2                       0.0      S0      udp  \n",
       "3                       0.0  RSTOS0      tcp  \n",
       "4                       0.0      SF      tcp  "
      ]
     },
     "execution_count": 10,
     "metadata": {},
     "output_type": "execute_result"
    }
   ],
   "source": [
    "df.pop('source_ip_address').values\n",
    "df.pop('source_port_number').values\n",
    "df.pop('destination_ip_address').values\n",
    "df.pop('destination_port_number').values\n",
    "df.pop('start_time').values\n",
    "df.head()"
   ]
  },
  {
   "cell_type": "markdown",
   "metadata": {},
   "source": [
    "### Features to use"
   ]
  },
  {
   "cell_type": "code",
   "execution_count": 11,
   "metadata": {},
   "outputs": [
    {
     "data": {
      "text/plain": [
       "['duration',\n",
       " 'service',\n",
       " 'source_bytes',\n",
       " 'destination_bytes',\n",
       " 'count',\n",
       " 'same_srv_rate',\n",
       " 'serror_rate',\n",
       " 'srv_serror_rate',\n",
       " 'dst_host_count',\n",
       " 'dst_host_srv_count',\n",
       " 'dst_host_same_src_port_rate',\n",
       " 'dst_host_serror_rate',\n",
       " 'dst_host_srv_serror_rate',\n",
       " 'flag',\n",
       " 'protocol']"
      ]
     },
     "execution_count": 11,
     "metadata": {},
     "output_type": "execute_result"
    }
   ],
   "source": [
    "list(df)"
   ]
  },
  {
   "cell_type": "markdown",
   "metadata": {},
   "source": [
    "### Transfrom Catergorical Data to Numerical Data"
   ]
  },
  {
   "cell_type": "code",
   "execution_count": 12,
   "metadata": {},
   "outputs": [],
   "source": [
    "from sklearn import preprocessing"
   ]
  },
  {
   "cell_type": "code",
   "execution_count": 13,
   "metadata": {},
   "outputs": [],
   "source": [
    "#todo: make this run in a loop\n",
    "categorical_data = ['service', 'flag', 'protocol']\n",
    "unique_flag_data = df['flag'].unique()\n",
    "unique_service_data = df['service'].unique()\n",
    "unique_protocol_data = df['protocol'].unique()"
   ]
  },
  {
   "cell_type": "markdown",
   "metadata": {},
   "source": [
    "#### Encoder for feature : Flag"
   ]
  },
  {
   "cell_type": "code",
   "execution_count": 14,
   "metadata": {},
   "outputs": [
    {
     "name": "stdout",
     "output_type": "stream",
     "text": [
      "['SF', 'S0', 'S0', 'RSTOS0', 'SF']\n",
      "[10  6  6  3 10]\n",
      "['SF', 'S0', 'S0', 'RSTOS0', 'SF']\n"
     ]
    },
    {
     "name": "stderr",
     "output_type": "stream",
     "text": [
      "/home/chrx/anaconda3/lib/python3.6/site-packages/sklearn/preprocessing/label.py:151: DeprecationWarning: The truth value of an empty array is ambiguous. Returning False, but in future this will result in an error. Use `array.size > 0` to check that an array is not empty.\n",
      "  if diff:\n"
     ]
    }
   ],
   "source": [
    "le_flag = preprocessing.LabelEncoder()\n",
    "#Fit the label encoder to unique values\n",
    "le_flag.fit(unique_flag_data)\n",
    "\n",
    "#Fit the label data to some example data\n",
    "example_flag_data = list(df.head()['flag'])\n",
    "#Fit the label encoder and return encoded labels\n",
    "encoded_flag_data = le_flag.transform(example_flag_data)\n",
    "\n",
    "#Transform labels back to original encoding\n",
    "decoded_flag_data = list(le_flag.inverse_transform(encoded_flag_data))\n",
    "\n",
    "print(example_flag_data)\n",
    "print(encoded_flag_data)\n",
    "print(decoded_flag_data)\n",
    "#Ignore any warnings"
   ]
  },
  {
   "cell_type": "code",
   "execution_count": null,
   "metadata": {},
   "outputs": [],
   "source": []
  }
 ],
 "metadata": {
  "kernelspec": {
   "display_name": "Python 3",
   "language": "python",
   "name": "python3"
  },
  "language_info": {
   "codemirror_mode": {
    "name": "ipython",
    "version": 3
   },
   "file_extension": ".py",
   "mimetype": "text/x-python",
   "name": "python",
   "nbconvert_exporter": "python",
   "pygments_lexer": "ipython3",
   "version": "3.6.5"
  }
 },
 "nbformat": 4,
 "nbformat_minor": 2
}
