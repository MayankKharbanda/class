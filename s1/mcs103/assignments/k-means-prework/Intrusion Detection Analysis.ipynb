{
 "cells": [
  {
   "cell_type": "code",
   "execution_count": 1,
   "metadata": {},
   "outputs": [],
   "source": [
    "import numpy as np\n",
    "import pandas as pd\n",
    "import matplotlib.pyplot as plt  \n",
    "%matplotlib inline"
   ]
  },
  {
   "cell_type": "markdown",
   "metadata": {},
   "source": [
    "## 1. Introduce the Data"
   ]
  },
  {
   "cell_type": "markdown",
   "metadata": {},
   "source": [
    "### Import the dataset\n",
    "\n",
    "`dataset.txt` is a tab delimited file that has around 5 lac rows and 24 features. We read the data into an object called df and then assign the labels of the features to their respective columns in the dataframe `df`."
   ]
  },
  {
   "cell_type": "code",
   "execution_count": 2,
   "metadata": {},
   "outputs": [
    {
     "name": "stderr",
     "output_type": "stream",
     "text": [
      "/home/chrx/anaconda3/lib/python3.6/site-packages/IPython/core/interactiveshell.py:2785: DtypeWarning: Columns (15) have mixed types. Specify dtype option on import or set low_memory=False.\n",
      "  interactivity=interactivity, compiler=compiler, result=result)\n"
     ]
    }
   ],
   "source": [
    "df = pd.read_csv('dataset.txt', sep = \"\\t\", header = None) #use nrows attribute for limited dataset\n",
    "column_list = [\n",
    "    'duration',\n",
    "    'service',\n",
    "    'source_bytes',\n",
    "    'destination_bytes',\n",
    "    'count',\n",
    "    'same_srv_rate',\n",
    "    'serror_rate',\n",
    "    'srv_serror_rate',\n",
    "    'dst_host_count',\n",
    "    'dst_host_srv_count',\n",
    "    'dst_host_same_src_port_rate',\n",
    "    'dst_host_serror_rate',\n",
    "    'dst_host_srv_serror_rate',\n",
    "    'flag',\n",
    "    'ids_detection',\n",
    "    'malware_detection',\n",
    "    'ashula_detection',\n",
    "    'label',\n",
    "    'source_ip_address',\n",
    "    'source_port_number',\n",
    "    'destination_ip_address',\n",
    "    'destination_port_number',\n",
    "    'start_time',\n",
    "    'protocol'\n",
    "]\n",
    "df.columns = column_list"
   ]
  },
  {
   "cell_type": "code",
   "execution_count": 3,
   "metadata": {},
   "outputs": [
    {
     "data": {
      "text/html": [
       "<div>\n",
       "<style scoped>\n",
       "    .dataframe tbody tr th:only-of-type {\n",
       "        vertical-align: middle;\n",
       "    }\n",
       "\n",
       "    .dataframe tbody tr th {\n",
       "        vertical-align: top;\n",
       "    }\n",
       "\n",
       "    .dataframe thead th {\n",
       "        text-align: right;\n",
       "    }\n",
       "</style>\n",
       "<table border=\"1\" class=\"dataframe\">\n",
       "  <thead>\n",
       "    <tr style=\"text-align: right;\">\n",
       "      <th></th>\n",
       "      <th>duration</th>\n",
       "      <th>service</th>\n",
       "      <th>source_bytes</th>\n",
       "      <th>destination_bytes</th>\n",
       "      <th>count</th>\n",
       "      <th>same_srv_rate</th>\n",
       "      <th>serror_rate</th>\n",
       "      <th>srv_serror_rate</th>\n",
       "      <th>dst_host_count</th>\n",
       "      <th>dst_host_srv_count</th>\n",
       "      <th>...</th>\n",
       "      <th>ids_detection</th>\n",
       "      <th>malware_detection</th>\n",
       "      <th>ashula_detection</th>\n",
       "      <th>label</th>\n",
       "      <th>source_ip_address</th>\n",
       "      <th>source_port_number</th>\n",
       "      <th>destination_ip_address</th>\n",
       "      <th>destination_port_number</th>\n",
       "      <th>start_time</th>\n",
       "      <th>protocol</th>\n",
       "    </tr>\n",
       "  </thead>\n",
       "  <tbody>\n",
       "    <tr>\n",
       "      <th>0</th>\n",
       "      <td>0.000393</td>\n",
       "      <td>dns</td>\n",
       "      <td>43</td>\n",
       "      <td>100</td>\n",
       "      <td>9</td>\n",
       "      <td>1.0</td>\n",
       "      <td>0.0</td>\n",
       "      <td>0.0</td>\n",
       "      <td>60</td>\n",
       "      <td>99</td>\n",
       "      <td>...</td>\n",
       "      <td>0</td>\n",
       "      <td>0</td>\n",
       "      <td>0</td>\n",
       "      <td>-1</td>\n",
       "      <td>fd95:ec1e:6a61:df6b:7de2:27ad:6105:3709</td>\n",
       "      <td>46071</td>\n",
       "      <td>fd95:ec1e:6a61:435f:7de5:27b0:7d84:3c0d</td>\n",
       "      <td>53</td>\n",
       "      <td>00:00:00</td>\n",
       "      <td>udp</td>\n",
       "    </tr>\n",
       "    <tr>\n",
       "      <th>1</th>\n",
       "      <td>0.000400</td>\n",
       "      <td>dns</td>\n",
       "      <td>43</td>\n",
       "      <td>100</td>\n",
       "      <td>11</td>\n",
       "      <td>1.0</td>\n",
       "      <td>0.0</td>\n",
       "      <td>0.0</td>\n",
       "      <td>61</td>\n",
       "      <td>99</td>\n",
       "      <td>...</td>\n",
       "      <td>0</td>\n",
       "      <td>0</td>\n",
       "      <td>0</td>\n",
       "      <td>-1</td>\n",
       "      <td>fd95:ec1e:6a61:df6b:7de2:27ad:6105:3709</td>\n",
       "      <td>51986</td>\n",
       "      <td>fd95:ec1e:6a61:435f:7de5:27b0:7d84:3c0d</td>\n",
       "      <td>53</td>\n",
       "      <td>00:00:00</td>\n",
       "      <td>udp</td>\n",
       "    </tr>\n",
       "    <tr>\n",
       "      <th>2</th>\n",
       "      <td>0.000432</td>\n",
       "      <td>dns</td>\n",
       "      <td>61</td>\n",
       "      <td>77</td>\n",
       "      <td>14</td>\n",
       "      <td>1.0</td>\n",
       "      <td>0.0</td>\n",
       "      <td>0.0</td>\n",
       "      <td>60</td>\n",
       "      <td>99</td>\n",
       "      <td>...</td>\n",
       "      <td>0</td>\n",
       "      <td>0</td>\n",
       "      <td>0</td>\n",
       "      <td>-1</td>\n",
       "      <td>fd95:ec1e:6a61:df6b:7de2:27ad:6105:3709</td>\n",
       "      <td>48133</td>\n",
       "      <td>fd95:ec1e:6a61:435f:7de5:27b0:7d84:3c0d</td>\n",
       "      <td>53</td>\n",
       "      <td>00:00:00</td>\n",
       "      <td>udp</td>\n",
       "    </tr>\n",
       "    <tr>\n",
       "      <th>3</th>\n",
       "      <td>0.000442</td>\n",
       "      <td>dns</td>\n",
       "      <td>61</td>\n",
       "      <td>77</td>\n",
       "      <td>15</td>\n",
       "      <td>1.0</td>\n",
       "      <td>0.0</td>\n",
       "      <td>0.0</td>\n",
       "      <td>39</td>\n",
       "      <td>99</td>\n",
       "      <td>...</td>\n",
       "      <td>0</td>\n",
       "      <td>0</td>\n",
       "      <td>0</td>\n",
       "      <td>1</td>\n",
       "      <td>fd95:ec1e:6a61:b804:7dcb:276f:0751:0ff5</td>\n",
       "      <td>58986</td>\n",
       "      <td>fd95:ec1e:6a61:435f:7de5:27b0:7d84:3c0d</td>\n",
       "      <td>53</td>\n",
       "      <td>00:00:00</td>\n",
       "      <td>udp</td>\n",
       "    </tr>\n",
       "    <tr>\n",
       "      <th>4</th>\n",
       "      <td>0.000452</td>\n",
       "      <td>dns</td>\n",
       "      <td>61</td>\n",
       "      <td>112</td>\n",
       "      <td>16</td>\n",
       "      <td>1.0</td>\n",
       "      <td>0.0</td>\n",
       "      <td>0.0</td>\n",
       "      <td>39</td>\n",
       "      <td>99</td>\n",
       "      <td>...</td>\n",
       "      <td>0</td>\n",
       "      <td>0</td>\n",
       "      <td>0</td>\n",
       "      <td>1</td>\n",
       "      <td>fd95:ec1e:6a61:b804:7dcb:276f:0751:0ff5</td>\n",
       "      <td>35589</td>\n",
       "      <td>fd95:ec1e:6a61:435f:7de5:27b0:7d84:3c0d</td>\n",
       "      <td>53</td>\n",
       "      <td>00:00:00</td>\n",
       "      <td>udp</td>\n",
       "    </tr>\n",
       "  </tbody>\n",
       "</table>\n",
       "<p>5 rows × 24 columns</p>\n",
       "</div>"
      ],
      "text/plain": [
       "   duration service  source_bytes  destination_bytes  count  same_srv_rate  \\\n",
       "0  0.000393     dns            43                100      9            1.0   \n",
       "1  0.000400     dns            43                100     11            1.0   \n",
       "2  0.000432     dns            61                 77     14            1.0   \n",
       "3  0.000442     dns            61                 77     15            1.0   \n",
       "4  0.000452     dns            61                112     16            1.0   \n",
       "\n",
       "   serror_rate  srv_serror_rate  dst_host_count  dst_host_srv_count    ...     \\\n",
       "0          0.0              0.0              60                  99    ...      \n",
       "1          0.0              0.0              61                  99    ...      \n",
       "2          0.0              0.0              60                  99    ...      \n",
       "3          0.0              0.0              39                  99    ...      \n",
       "4          0.0              0.0              39                  99    ...      \n",
       "\n",
       "   ids_detection  malware_detection  ashula_detection label  \\\n",
       "0              0                  0                 0    -1   \n",
       "1              0                  0                 0    -1   \n",
       "2              0                  0                 0    -1   \n",
       "3              0                  0                 0     1   \n",
       "4              0                  0                 0     1   \n",
       "\n",
       "                         source_ip_address source_port_number  \\\n",
       "0  fd95:ec1e:6a61:df6b:7de2:27ad:6105:3709              46071   \n",
       "1  fd95:ec1e:6a61:df6b:7de2:27ad:6105:3709              51986   \n",
       "2  fd95:ec1e:6a61:df6b:7de2:27ad:6105:3709              48133   \n",
       "3  fd95:ec1e:6a61:b804:7dcb:276f:0751:0ff5              58986   \n",
       "4  fd95:ec1e:6a61:b804:7dcb:276f:0751:0ff5              35589   \n",
       "\n",
       "                    destination_ip_address  destination_port_number  \\\n",
       "0  fd95:ec1e:6a61:435f:7de5:27b0:7d84:3c0d                       53   \n",
       "1  fd95:ec1e:6a61:435f:7de5:27b0:7d84:3c0d                       53   \n",
       "2  fd95:ec1e:6a61:435f:7de5:27b0:7d84:3c0d                       53   \n",
       "3  fd95:ec1e:6a61:435f:7de5:27b0:7d84:3c0d                       53   \n",
       "4  fd95:ec1e:6a61:435f:7de5:27b0:7d84:3c0d                       53   \n",
       "\n",
       "  start_time  protocol  \n",
       "0   00:00:00       udp  \n",
       "1   00:00:00       udp  \n",
       "2   00:00:00       udp  \n",
       "3   00:00:00       udp  \n",
       "4   00:00:00       udp  \n",
       "\n",
       "[5 rows x 24 columns]"
      ]
     },
     "execution_count": 3,
     "metadata": {},
     "output_type": "execute_result"
    }
   ],
   "source": [
    "#reading the first 5 rows of the data\n",
    "\n",
    "df.head()"
   ]
  },
  {
   "cell_type": "code",
   "execution_count": 4,
   "metadata": {},
   "outputs": [
    {
     "data": {
      "text/plain": [
       "(499999, 24)"
      ]
     },
     "execution_count": 4,
     "metadata": {},
     "output_type": "execute_result"
    }
   ],
   "source": [
    "#shape of the data is the number of rows by the number of features\n",
    "df.shape"
   ]
  },
  {
   "cell_type": "markdown",
   "metadata": {},
   "source": [
    "### Remove the target variable from the dataset\n",
    "the target variable will be `label`\n",
    "\n",
    " **Important -- **\n",
    " `label = 0 if no Intrusion 1 Otherwise`\n",
    "\n",
    "although `malware detection`, `ids_detection`, and `ashula_detection` could also be taken as labels, we decided against it since they were only indicative of the detection of intrusion by a software and therefore may not be correctly labelled."
   ]
  },
  {
   "cell_type": "code",
   "execution_count": 5,
   "metadata": {},
   "outputs": [],
   "source": [
    "df['label'] = [0 if x == 1 else 1 for x in df['label']]"
   ]
  },
  {
   "cell_type": "code",
   "execution_count": 6,
   "metadata": {},
   "outputs": [
    {
     "data": {
      "text/plain": [
       "(499999, 20)"
      ]
     },
     "execution_count": 6,
     "metadata": {},
     "output_type": "execute_result"
    }
   ],
   "source": [
    "label_target = df.pop('label').values\n",
    "\n",
    "#dropping these labels because they aren't really needed in training\n",
    "df.pop('ids_detection').values\n",
    "df.pop('malware_detection').values\n",
    "df.pop('ashula_detection').values\n",
    "\n",
    "df.shape"
   ]
  },
  {
   "cell_type": "code",
   "execution_count": 7,
   "metadata": {},
   "outputs": [],
   "source": [
    "#creating a variable y that contains the target column `label` for the training set\n",
    "y = label_target"
   ]
  },
  {
   "cell_type": "markdown",
   "metadata": {},
   "source": [
    "### Checking String Based Features\n",
    "\n",
    "Here we check the unique values of string based features and determine if they are necessary. If there are a lot of unique values then the feature is ignored since it might lead to overfitting of the model"
   ]
  },
  {
   "cell_type": "code",
   "execution_count": 8,
   "metadata": {},
   "outputs": [
    {
     "name": "stdout",
     "output_type": "stream",
     "text": [
      "Number of unique values =  12 \n",
      "\n",
      "dns         313014\n",
      "other       114253\n",
      "ssh          71349\n",
      "sip            617\n",
      "snmp           199\n",
      "smtp           182\n",
      "radius         157\n",
      "rdp             94\n",
      "http            89\n",
      "smtp,ssl        33\n",
      "dhcp            11\n",
      "ssl              1\n",
      "Name: service, dtype: int64\n"
     ]
    }
   ],
   "source": [
    "#count the unique values in service feature(string based)\n",
    "service_value_counts = df['service'].value_counts()\n",
    "print(\"Number of unique values = \", service_value_counts.shape[0], \"\\n\")\n",
    "print(service_value_counts)"
   ]
  },
  {
   "cell_type": "code",
   "execution_count": 9,
   "metadata": {},
   "outputs": [
    {
     "name": "stdout",
     "output_type": "stream",
     "text": [
      "Number of unique values =  3 \n",
      "\n",
      "udp     320156\n",
      "tcp     177207\n",
      "icmp      2636\n",
      "Name: protocol, dtype: int64\n"
     ]
    }
   ],
   "source": [
    "#count the unique values in protocol feature(string based)\n",
    "protocol_value_counts = df['protocol'].value_counts()\n",
    "print(\"Number of unique values = \", protocol_value_counts.shape[0], \"\\n\")\n",
    "print(protocol_value_counts)"
   ]
  },
  {
   "cell_type": "code",
   "execution_count": 10,
   "metadata": {},
   "outputs": [
    {
     "name": "stdout",
     "output_type": "stream",
     "text": [
      "Number of unique values =  12 \n",
      "\n",
      "SF        378699\n",
      "S0        101335\n",
      "OTH         9414\n",
      "REJ         5520\n",
      "RSTO        2250\n",
      "SHR         1522\n",
      "RSTRH        659\n",
      "RSTOS0       320\n",
      "S1           152\n",
      "RSTR         104\n",
      "S2            13\n",
      "SH            11\n",
      "Name: flag, dtype: int64\n"
     ]
    }
   ],
   "source": [
    "#count the unique values in flag feature(string based)\n",
    "protocol_value_counts = df['flag'].value_counts()\n",
    "print(\"Number of unique values = \", protocol_value_counts.shape[0], \"\\n\")\n",
    "print(protocol_value_counts)"
   ]
  },
  {
   "cell_type": "markdown",
   "metadata": {},
   "source": [
    "### Unique values for each feature in the dataset"
   ]
  },
  {
   "cell_type": "code",
   "execution_count": 11,
   "metadata": {},
   "outputs": [
    {
     "data": {
      "text/plain": [
       "duration                       94392\n",
       "service                           12\n",
       "source_bytes                     490\n",
       "destination_bytes                371\n",
       "count                            101\n",
       "same_srv_rate                     54\n",
       "serror_rate                       80\n",
       "srv_serror_rate                  101\n",
       "dst_host_count                   101\n",
       "dst_host_srv_count               101\n",
       "dst_host_same_src_port_rate       40\n",
       "dst_host_serror_rate              98\n",
       "dst_host_srv_serror_rate         101\n",
       "flag                              12\n",
       "source_ip_address              12815\n",
       "source_port_number             60971\n",
       "destination_ip_address           974\n",
       "destination_port_number         3148\n",
       "start_time                     74672\n",
       "protocol                           3\n",
       "dtype: int64"
      ]
     },
     "execution_count": 11,
     "metadata": {},
     "output_type": "execute_result"
    }
   ],
   "source": [
    "df.T.apply(lambda x: x.nunique(), axis=1)"
   ]
  },
  {
   "cell_type": "markdown",
   "metadata": {},
   "source": [
    "### Removing unnecessary features\n",
    "Everything from source_ip_address to start_time is of no use because these things are really random..."
   ]
  },
  {
   "cell_type": "code",
   "execution_count": 12,
   "metadata": {},
   "outputs": [
    {
     "data": {
      "text/html": [
       "<div>\n",
       "<style scoped>\n",
       "    .dataframe tbody tr th:only-of-type {\n",
       "        vertical-align: middle;\n",
       "    }\n",
       "\n",
       "    .dataframe tbody tr th {\n",
       "        vertical-align: top;\n",
       "    }\n",
       "\n",
       "    .dataframe thead th {\n",
       "        text-align: right;\n",
       "    }\n",
       "</style>\n",
       "<table border=\"1\" class=\"dataframe\">\n",
       "  <thead>\n",
       "    <tr style=\"text-align: right;\">\n",
       "      <th></th>\n",
       "      <th>duration</th>\n",
       "      <th>service</th>\n",
       "      <th>source_bytes</th>\n",
       "      <th>destination_bytes</th>\n",
       "      <th>count</th>\n",
       "      <th>same_srv_rate</th>\n",
       "      <th>serror_rate</th>\n",
       "      <th>srv_serror_rate</th>\n",
       "      <th>dst_host_count</th>\n",
       "      <th>dst_host_srv_count</th>\n",
       "      <th>dst_host_same_src_port_rate</th>\n",
       "      <th>dst_host_serror_rate</th>\n",
       "      <th>dst_host_srv_serror_rate</th>\n",
       "      <th>flag</th>\n",
       "      <th>protocol</th>\n",
       "    </tr>\n",
       "  </thead>\n",
       "  <tbody>\n",
       "    <tr>\n",
       "      <th>0</th>\n",
       "      <td>0.000393</td>\n",
       "      <td>dns</td>\n",
       "      <td>43</td>\n",
       "      <td>100</td>\n",
       "      <td>9</td>\n",
       "      <td>1.0</td>\n",
       "      <td>0.0</td>\n",
       "      <td>0.0</td>\n",
       "      <td>60</td>\n",
       "      <td>99</td>\n",
       "      <td>0.0</td>\n",
       "      <td>0.0</td>\n",
       "      <td>0.0</td>\n",
       "      <td>SF</td>\n",
       "      <td>udp</td>\n",
       "    </tr>\n",
       "    <tr>\n",
       "      <th>1</th>\n",
       "      <td>0.000400</td>\n",
       "      <td>dns</td>\n",
       "      <td>43</td>\n",
       "      <td>100</td>\n",
       "      <td>11</td>\n",
       "      <td>1.0</td>\n",
       "      <td>0.0</td>\n",
       "      <td>0.0</td>\n",
       "      <td>61</td>\n",
       "      <td>99</td>\n",
       "      <td>0.0</td>\n",
       "      <td>0.0</td>\n",
       "      <td>0.0</td>\n",
       "      <td>SF</td>\n",
       "      <td>udp</td>\n",
       "    </tr>\n",
       "    <tr>\n",
       "      <th>2</th>\n",
       "      <td>0.000432</td>\n",
       "      <td>dns</td>\n",
       "      <td>61</td>\n",
       "      <td>77</td>\n",
       "      <td>14</td>\n",
       "      <td>1.0</td>\n",
       "      <td>0.0</td>\n",
       "      <td>0.0</td>\n",
       "      <td>60</td>\n",
       "      <td>99</td>\n",
       "      <td>0.0</td>\n",
       "      <td>0.0</td>\n",
       "      <td>0.0</td>\n",
       "      <td>SF</td>\n",
       "      <td>udp</td>\n",
       "    </tr>\n",
       "    <tr>\n",
       "      <th>3</th>\n",
       "      <td>0.000442</td>\n",
       "      <td>dns</td>\n",
       "      <td>61</td>\n",
       "      <td>77</td>\n",
       "      <td>15</td>\n",
       "      <td>1.0</td>\n",
       "      <td>0.0</td>\n",
       "      <td>0.0</td>\n",
       "      <td>39</td>\n",
       "      <td>99</td>\n",
       "      <td>0.0</td>\n",
       "      <td>0.0</td>\n",
       "      <td>0.0</td>\n",
       "      <td>SF</td>\n",
       "      <td>udp</td>\n",
       "    </tr>\n",
       "    <tr>\n",
       "      <th>4</th>\n",
       "      <td>0.000452</td>\n",
       "      <td>dns</td>\n",
       "      <td>61</td>\n",
       "      <td>112</td>\n",
       "      <td>16</td>\n",
       "      <td>1.0</td>\n",
       "      <td>0.0</td>\n",
       "      <td>0.0</td>\n",
       "      <td>39</td>\n",
       "      <td>99</td>\n",
       "      <td>0.0</td>\n",
       "      <td>0.0</td>\n",
       "      <td>0.0</td>\n",
       "      <td>SF</td>\n",
       "      <td>udp</td>\n",
       "    </tr>\n",
       "  </tbody>\n",
       "</table>\n",
       "</div>"
      ],
      "text/plain": [
       "   duration service  source_bytes  destination_bytes  count  same_srv_rate  \\\n",
       "0  0.000393     dns            43                100      9            1.0   \n",
       "1  0.000400     dns            43                100     11            1.0   \n",
       "2  0.000432     dns            61                 77     14            1.0   \n",
       "3  0.000442     dns            61                 77     15            1.0   \n",
       "4  0.000452     dns            61                112     16            1.0   \n",
       "\n",
       "   serror_rate  srv_serror_rate  dst_host_count  dst_host_srv_count  \\\n",
       "0          0.0              0.0              60                  99   \n",
       "1          0.0              0.0              61                  99   \n",
       "2          0.0              0.0              60                  99   \n",
       "3          0.0              0.0              39                  99   \n",
       "4          0.0              0.0              39                  99   \n",
       "\n",
       "   dst_host_same_src_port_rate  dst_host_serror_rate  \\\n",
       "0                          0.0                   0.0   \n",
       "1                          0.0                   0.0   \n",
       "2                          0.0                   0.0   \n",
       "3                          0.0                   0.0   \n",
       "4                          0.0                   0.0   \n",
       "\n",
       "   dst_host_srv_serror_rate flag protocol  \n",
       "0                       0.0   SF      udp  \n",
       "1                       0.0   SF      udp  \n",
       "2                       0.0   SF      udp  \n",
       "3                       0.0   SF      udp  \n",
       "4                       0.0   SF      udp  "
      ]
     },
     "execution_count": 12,
     "metadata": {},
     "output_type": "execute_result"
    }
   ],
   "source": [
    "df.pop('source_ip_address').values\n",
    "df.pop('source_port_number').values\n",
    "df.pop('destination_ip_address').values\n",
    "df.pop('destination_port_number').values\n",
    "df.pop('start_time').values\n",
    "df.head()"
   ]
  },
  {
   "cell_type": "markdown",
   "metadata": {},
   "source": [
    "### Features to use"
   ]
  },
  {
   "cell_type": "code",
   "execution_count": 13,
   "metadata": {},
   "outputs": [
    {
     "data": {
      "text/plain": [
       "['duration',\n",
       " 'service',\n",
       " 'source_bytes',\n",
       " 'destination_bytes',\n",
       " 'count',\n",
       " 'same_srv_rate',\n",
       " 'serror_rate',\n",
       " 'srv_serror_rate',\n",
       " 'dst_host_count',\n",
       " 'dst_host_srv_count',\n",
       " 'dst_host_same_src_port_rate',\n",
       " 'dst_host_serror_rate',\n",
       " 'dst_host_srv_serror_rate',\n",
       " 'flag',\n",
       " 'protocol']"
      ]
     },
     "execution_count": 13,
     "metadata": {},
     "output_type": "execute_result"
    }
   ],
   "source": [
    "list(df)"
   ]
  },
  {
   "cell_type": "markdown",
   "metadata": {},
   "source": [
    "### What the data looks like now in terms of data type"
   ]
  },
  {
   "cell_type": "code",
   "execution_count": 14,
   "metadata": {},
   "outputs": [
    {
     "name": "stdout",
     "output_type": "stream",
     "text": [
      "<class 'pandas.core.frame.DataFrame'>\n",
      "RangeIndex: 499999 entries, 0 to 499998\n",
      "Data columns (total 15 columns):\n",
      "duration                       499999 non-null float64\n",
      "service                        499999 non-null object\n",
      "source_bytes                   499999 non-null int64\n",
      "destination_bytes              499999 non-null int64\n",
      "count                          499999 non-null int64\n",
      "same_srv_rate                  499999 non-null float64\n",
      "serror_rate                    499999 non-null float64\n",
      "srv_serror_rate                499999 non-null float64\n",
      "dst_host_count                 499999 non-null int64\n",
      "dst_host_srv_count             499999 non-null int64\n",
      "dst_host_same_src_port_rate    499999 non-null float64\n",
      "dst_host_serror_rate           499999 non-null float64\n",
      "dst_host_srv_serror_rate       499999 non-null float64\n",
      "flag                           499999 non-null object\n",
      "protocol                       499999 non-null object\n",
      "dtypes: float64(7), int64(5), object(3)\n",
      "memory usage: 57.2+ MB\n"
     ]
    }
   ],
   "source": [
    "df.info()"
   ]
  },
  {
   "cell_type": "markdown",
   "metadata": {},
   "source": [
    "### Transfrom Catergorical Data to Numerical Data\n",
    "\n",
    "From the above result it can be seen that `service`, `flag`, and `protocol` are not numeric data. Since we have to supply the machine learing models with numeric data we have to somehow transform the categorical data to numeric data.\n",
    "\n",
    "For this purpose we use a Label Encoder that encodes the unique values of a feature to a unique numeric constant(number). We do this encoding for all the rows in the data."
   ]
  },
  {
   "cell_type": "code",
   "execution_count": 15,
   "metadata": {},
   "outputs": [],
   "source": [
    "from sklearn import preprocessing"
   ]
  },
  {
   "cell_type": "code",
   "execution_count": 16,
   "metadata": {},
   "outputs": [],
   "source": [
    "#get the unique values for the following categorical data\n",
    "categorical_data = ['service', 'flag', 'protocol']\n",
    "unique_flag_data = df['flag'].unique()\n",
    "unique_service_data = df['service'].unique()\n",
    "unique_protocol_data = df['protocol'].unique()"
   ]
  },
  {
   "cell_type": "markdown",
   "metadata": {},
   "source": [
    "#### Encoder for feature : Flag\n",
    "\n",
    "This shows an example of how categorical data like flag may be encoded and then decoded from categorical to numeric and then from numeric to categorical respectively."
   ]
  },
  {
   "cell_type": "code",
   "execution_count": 17,
   "metadata": {},
   "outputs": [
    {
     "name": "stdout",
     "output_type": "stream",
     "text": [
      "['SF', 'SF', 'SF', 'SF', 'SF']\n",
      "[9 9 9 9 9]\n",
      "['SF', 'SF', 'SF', 'SF', 'SF']\n"
     ]
    },
    {
     "name": "stderr",
     "output_type": "stream",
     "text": [
      "/home/chrx/anaconda3/lib/python3.6/site-packages/sklearn/preprocessing/label.py:151: DeprecationWarning: The truth value of an empty array is ambiguous. Returning False, but in future this will result in an error. Use `array.size > 0` to check that an array is not empty.\n",
      "  if diff:\n"
     ]
    }
   ],
   "source": [
    "le_flag = preprocessing.LabelEncoder()\n",
    "#Fit the label encoder to unique values\n",
    "le_flag.fit(unique_flag_data)\n",
    "\n",
    "#Fit the label data to some example data\n",
    "example_flag_data = list(df.head()['flag'])\n",
    "#Fit the label encoder and return encoded labels\n",
    "encoded_flag_data = le_flag.transform(example_flag_data)\n",
    "\n",
    "#Transform labels back to original encoding\n",
    "decoded_flag_data = list(le_flag.inverse_transform(encoded_flag_data))\n",
    "\n",
    "print(example_flag_data)\n",
    "print(encoded_flag_data)\n",
    "print(decoded_flag_data)\n",
    "#Ignore any warnings"
   ]
  },
  {
   "cell_type": "markdown",
   "metadata": {},
   "source": [
    "#### Encoder for feature : service and protocol"
   ]
  },
  {
   "cell_type": "code",
   "execution_count": 18,
   "metadata": {},
   "outputs": [
    {
     "data": {
      "text/plain": [
       "LabelEncoder()"
      ]
     },
     "execution_count": 18,
     "metadata": {},
     "output_type": "execute_result"
    }
   ],
   "source": [
    "le_service = preprocessing.LabelEncoder()\n",
    "le_service.fit(unique_service_data)\n",
    "\n",
    "le_protocol = preprocessing.LabelEncoder()\n",
    "le_protocol.fit(unique_protocol_data)"
   ]
  },
  {
   "cell_type": "markdown",
   "metadata": {},
   "source": [
    "#### Encode the categorical features for all rows in the data"
   ]
  },
  {
   "cell_type": "code",
   "execution_count": 19,
   "metadata": {},
   "outputs": [
    {
     "data": {
      "text/html": [
       "<div>\n",
       "<style scoped>\n",
       "    .dataframe tbody tr th:only-of-type {\n",
       "        vertical-align: middle;\n",
       "    }\n",
       "\n",
       "    .dataframe tbody tr th {\n",
       "        vertical-align: top;\n",
       "    }\n",
       "\n",
       "    .dataframe thead th {\n",
       "        text-align: right;\n",
       "    }\n",
       "</style>\n",
       "<table border=\"1\" class=\"dataframe\">\n",
       "  <thead>\n",
       "    <tr style=\"text-align: right;\">\n",
       "      <th></th>\n",
       "      <th>duration</th>\n",
       "      <th>service</th>\n",
       "      <th>source_bytes</th>\n",
       "      <th>destination_bytes</th>\n",
       "      <th>count</th>\n",
       "      <th>same_srv_rate</th>\n",
       "      <th>serror_rate</th>\n",
       "      <th>srv_serror_rate</th>\n",
       "      <th>dst_host_count</th>\n",
       "      <th>dst_host_srv_count</th>\n",
       "      <th>dst_host_same_src_port_rate</th>\n",
       "      <th>dst_host_serror_rate</th>\n",
       "      <th>dst_host_srv_serror_rate</th>\n",
       "      <th>flag</th>\n",
       "      <th>protocol</th>\n",
       "    </tr>\n",
       "  </thead>\n",
       "  <tbody>\n",
       "    <tr>\n",
       "      <th>0</th>\n",
       "      <td>0.000393</td>\n",
       "      <td>1</td>\n",
       "      <td>43</td>\n",
       "      <td>100</td>\n",
       "      <td>9</td>\n",
       "      <td>1.0</td>\n",
       "      <td>0.0</td>\n",
       "      <td>0.0</td>\n",
       "      <td>60</td>\n",
       "      <td>99</td>\n",
       "      <td>0.0</td>\n",
       "      <td>0.0</td>\n",
       "      <td>0.0</td>\n",
       "      <td>9</td>\n",
       "      <td>2</td>\n",
       "    </tr>\n",
       "    <tr>\n",
       "      <th>1</th>\n",
       "      <td>0.000400</td>\n",
       "      <td>1</td>\n",
       "      <td>43</td>\n",
       "      <td>100</td>\n",
       "      <td>11</td>\n",
       "      <td>1.0</td>\n",
       "      <td>0.0</td>\n",
       "      <td>0.0</td>\n",
       "      <td>61</td>\n",
       "      <td>99</td>\n",
       "      <td>0.0</td>\n",
       "      <td>0.0</td>\n",
       "      <td>0.0</td>\n",
       "      <td>9</td>\n",
       "      <td>2</td>\n",
       "    </tr>\n",
       "    <tr>\n",
       "      <th>2</th>\n",
       "      <td>0.000432</td>\n",
       "      <td>1</td>\n",
       "      <td>61</td>\n",
       "      <td>77</td>\n",
       "      <td>14</td>\n",
       "      <td>1.0</td>\n",
       "      <td>0.0</td>\n",
       "      <td>0.0</td>\n",
       "      <td>60</td>\n",
       "      <td>99</td>\n",
       "      <td>0.0</td>\n",
       "      <td>0.0</td>\n",
       "      <td>0.0</td>\n",
       "      <td>9</td>\n",
       "      <td>2</td>\n",
       "    </tr>\n",
       "    <tr>\n",
       "      <th>3</th>\n",
       "      <td>0.000442</td>\n",
       "      <td>1</td>\n",
       "      <td>61</td>\n",
       "      <td>77</td>\n",
       "      <td>15</td>\n",
       "      <td>1.0</td>\n",
       "      <td>0.0</td>\n",
       "      <td>0.0</td>\n",
       "      <td>39</td>\n",
       "      <td>99</td>\n",
       "      <td>0.0</td>\n",
       "      <td>0.0</td>\n",
       "      <td>0.0</td>\n",
       "      <td>9</td>\n",
       "      <td>2</td>\n",
       "    </tr>\n",
       "    <tr>\n",
       "      <th>4</th>\n",
       "      <td>0.000452</td>\n",
       "      <td>1</td>\n",
       "      <td>61</td>\n",
       "      <td>112</td>\n",
       "      <td>16</td>\n",
       "      <td>1.0</td>\n",
       "      <td>0.0</td>\n",
       "      <td>0.0</td>\n",
       "      <td>39</td>\n",
       "      <td>99</td>\n",
       "      <td>0.0</td>\n",
       "      <td>0.0</td>\n",
       "      <td>0.0</td>\n",
       "      <td>9</td>\n",
       "      <td>2</td>\n",
       "    </tr>\n",
       "  </tbody>\n",
       "</table>\n",
       "</div>"
      ],
      "text/plain": [
       "   duration  service  source_bytes  destination_bytes  count  same_srv_rate  \\\n",
       "0  0.000393        1            43                100      9            1.0   \n",
       "1  0.000400        1            43                100     11            1.0   \n",
       "2  0.000432        1            61                 77     14            1.0   \n",
       "3  0.000442        1            61                 77     15            1.0   \n",
       "4  0.000452        1            61                112     16            1.0   \n",
       "\n",
       "   serror_rate  srv_serror_rate  dst_host_count  dst_host_srv_count  \\\n",
       "0          0.0              0.0              60                  99   \n",
       "1          0.0              0.0              61                  99   \n",
       "2          0.0              0.0              60                  99   \n",
       "3          0.0              0.0              39                  99   \n",
       "4          0.0              0.0              39                  99   \n",
       "\n",
       "   dst_host_same_src_port_rate  dst_host_serror_rate  \\\n",
       "0                          0.0                   0.0   \n",
       "1                          0.0                   0.0   \n",
       "2                          0.0                   0.0   \n",
       "3                          0.0                   0.0   \n",
       "4                          0.0                   0.0   \n",
       "\n",
       "   dst_host_srv_serror_rate  flag  protocol  \n",
       "0                       0.0     9         2  \n",
       "1                       0.0     9         2  \n",
       "2                       0.0     9         2  \n",
       "3                       0.0     9         2  \n",
       "4                       0.0     9         2  "
      ]
     },
     "execution_count": 19,
     "metadata": {},
     "output_type": "execute_result"
    }
   ],
   "source": [
    "df['flag'] = le_flag.transform(df['flag'])\n",
    "df['service'] = le_service.transform(df['service'])\n",
    "df['protocol'] = le_protocol.transform(df['protocol'])\n",
    "df.head()"
   ]
  },
  {
   "cell_type": "markdown",
   "metadata": {},
   "source": [
    "### PCA\n",
    "\n",
    "PCA stands for Principal Component Analysis. This algorithm is used for dimensionality reduction.\n",
    "The algorithm is supplied with the number of dimension to output and then the PCA algorithm automatically calculates the new dimensions from the old dimensions. New dimensions are really a linear combination of the old dimensions."
   ]
  },
  {
   "cell_type": "code",
   "execution_count": 20,
   "metadata": {},
   "outputs": [],
   "source": [
    "from sklearn.decomposition import PCA\n",
    "\n",
    "pca = PCA(n_components = 2)\n",
    "X_pca = pd.DataFrame(pca.fit_transform(df))"
   ]
  },
  {
   "cell_type": "code",
   "execution_count": 21,
   "metadata": {},
   "outputs": [
    {
     "data": {
      "text/html": [
       "<div>\n",
       "<style scoped>\n",
       "    .dataframe tbody tr th:only-of-type {\n",
       "        vertical-align: middle;\n",
       "    }\n",
       "\n",
       "    .dataframe tbody tr th {\n",
       "        vertical-align: top;\n",
       "    }\n",
       "\n",
       "    .dataframe thead th {\n",
       "        text-align: right;\n",
       "    }\n",
       "</style>\n",
       "<table border=\"1\" class=\"dataframe\">\n",
       "  <thead>\n",
       "    <tr style=\"text-align: right;\">\n",
       "      <th></th>\n",
       "      <th>0</th>\n",
       "      <th>1</th>\n",
       "    </tr>\n",
       "  </thead>\n",
       "  <tbody>\n",
       "    <tr>\n",
       "      <th>0</th>\n",
       "      <td>-241.430381</td>\n",
       "      <td>-83.353206</td>\n",
       "    </tr>\n",
       "    <tr>\n",
       "      <th>1</th>\n",
       "      <td>-241.431096</td>\n",
       "      <td>-83.369025</td>\n",
       "    </tr>\n",
       "    <tr>\n",
       "      <th>2</th>\n",
       "      <td>-264.278958</td>\n",
       "      <td>-65.191378</td>\n",
       "    </tr>\n",
       "    <tr>\n",
       "      <th>3</th>\n",
       "      <td>-264.274311</td>\n",
       "      <td>-65.113415</td>\n",
       "    </tr>\n",
       "    <tr>\n",
       "      <th>4</th>\n",
       "      <td>-229.275807</td>\n",
       "      <td>-65.414867</td>\n",
       "    </tr>\n",
       "  </tbody>\n",
       "</table>\n",
       "</div>"
      ],
      "text/plain": [
       "            0          1\n",
       "0 -241.430381 -83.353206\n",
       "1 -241.431096 -83.369025\n",
       "2 -264.278958 -65.191378\n",
       "3 -264.274311 -65.113415\n",
       "4 -229.275807 -65.414867"
      ]
     },
     "execution_count": 21,
     "metadata": {},
     "output_type": "execute_result"
    }
   ],
   "source": [
    "X_pca.head()"
   ]
  },
  {
   "cell_type": "markdown",
   "metadata": {},
   "source": [
    "## Model Building\n",
    "\n",
    "We have used 3 different types of machine learning models which are:\n",
    "\n",
    "    -KMeans\n",
    "    -Logistic Regression\n",
    "    -Random Forests\n",
    "    \n",
    "Here KMeans is a Unsupervised Learning model and the other 2 are Supervised Learning Models."
   ]
  },
  {
   "cell_type": "markdown",
   "metadata": {},
   "source": [
    "### Kmeans\n",
    "\n",
    "Here we use 2 clusters because we want the data to cluster into 2 clusters: Intrusion or Not Intrusion"
   ]
  },
  {
   "cell_type": "code",
   "execution_count": 22,
   "metadata": {},
   "outputs": [
    {
     "name": "stdout",
     "output_type": "stream",
     "text": [
      "[[     0 499995]\n",
      " [     1      4]]\n",
      "[[     0 129616]\n",
      " [     1 370383]]\n"
     ]
    },
    {
     "data": {
      "image/png": "[encoded data removed]",
      "text/plain": [
       "<Figure size 432x288 with 1 Axes>"
      ]
     },
     "metadata": {},
     "output_type": "display_data"
    }
   ],
   "source": [
    "from sklearn.cluster import KMeans\n",
    "\n",
    "#converting to numpy array : format needed by sklearn\n",
    "X_pca_np = np.array(X_pca).astype(float)\n",
    "\n",
    "#creating a model\n",
    "kmeans = KMeans(n_clusters = 2, random_state = 0)\n",
    "\n",
    "#fitting the data to the model\n",
    "kmeans.fit(X_pca_np)\n",
    "\n",
    "#plotting the points and the cluster centroids\n",
    "plt.scatter(X_pca_np[:,0],X_pca_np[:,1], c = kmeans.labels_, cmap = 'rainbow') \n",
    "plt.scatter(kmeans.cluster_centers_[:,0] ,kmeans.cluster_centers_[:,1], color='black')\n",
    "\n",
    "#frequency of labels\n",
    "predicted = kmeans.predict(X_pca_np)\n",
    "unique, counts = np.unique(predicted, return_counts=True)\n",
    "print(np.asarray((unique, counts)).T)\n",
    "unique, counts = np.unique(y, return_counts=True)\n",
    "print(np.asarray((unique, counts)).T)"
   ]
  },
  {
   "cell_type": "code",
   "execution_count": 23,
   "metadata": {},
   "outputs": [
    {
     "name": "stdout",
     "output_type": "stream",
     "text": [
      "accuracy Score :  0.25924051848103696\n",
      "Confusion Matrix\n",
      " [[129616      0]\n",
      " [370379      4]]\n"
     ]
    },
    {
     "data": {
      "image/png": "[encoded data removed]",
      "text/plain": [
       "<Figure size 432x288 with 2 Axes>"
      ]
     },
     "metadata": {},
     "output_type": "display_data"
    }
   ],
   "source": [
    "#calculating the percentage of correct clusterings\n",
    "from sklearn.metrics import accuracy_score\n",
    "print(\"accuracy Score : \",accuracy_score(y, kmeans.predict(X_pca_np)))\n",
    "\n",
    "#printing confusion matrix\n",
    "from sklearn.metrics import confusion_matrix\n",
    "print(\"Confusion Matrix\\n\",confusion_matrix(y, kmeans.predict(X_pca_np)))\n",
    "\n",
    "#plotting confusion matrix\n",
    "plt.imshow(confusion_matrix(y, kmeans.predict(X_pca_np)),\n",
    "           cmap='Blues', interpolation='nearest')\n",
    "plt.colorbar()\n",
    "plt.grid(False)\n",
    "plt.ylabel('true')\n",
    "plt.xlabel('predicted');"
   ]
  },
  {
   "cell_type": "markdown",
   "metadata": {},
   "source": [
    "#### Lets try with a change in hyperparameters to kmeans"
   ]
  },
  {
   "cell_type": "code",
   "execution_count": 24,
   "metadata": {},
   "outputs": [
    {
     "name": "stdout",
     "output_type": "stream",
     "text": [
      "accuracy Score :  0.25924051848103696\n",
      "Confusion Matrix\n",
      " [[129616      0]\n",
      " [370379      4]]\n"
     ]
    },
    {
     "data": {
      "image/png": "[encoded data removed]",
      "text/plain": [
       "<Figure size 432x288 with 2 Axes>"
      ]
     },
     "metadata": {},
     "output_type": "display_data"
    }
   ],
   "source": [
    "#fitting data to modded kmeans model\n",
    "kmeans_modded = KMeans(n_clusters = 2, random_state = 0, max_iter = 100, algorithm = 'auto')\n",
    "kmeans_modded.fit(X_pca_np)\n",
    "\n",
    "#calculating the percentage of correct labels\n",
    "print(\"accuracy Score : \",accuracy_score(y, kmeans_modded.predict(X_pca_np)))\n",
    "#printing confusion matrix\n",
    "print(\"Confusion Matrix\\n\",confusion_matrix(y, kmeans_modded.predict(X_pca_np)))\n",
    "\n",
    "#plotting confusion matrix\n",
    "plt.imshow(confusion_matrix(y, kmeans_modded.predict(X_pca_np)),\n",
    "           cmap='Blues', interpolation='nearest')\n",
    "plt.colorbar()\n",
    "plt.grid(False)\n",
    "plt.ylabel('true')\n",
    "plt.xlabel('predicted');"
   ]
  },
  {
   "cell_type": "markdown",
   "metadata": {},
   "source": [
    "#### Lets try to scale the data and then run kmeans"
   ]
  },
  {
   "cell_type": "code",
   "execution_count": 25,
   "metadata": {},
   "outputs": [
    {
     "name": "stdout",
     "output_type": "stream",
     "text": [
      "accuracy Score :  0.25924051848103696\n",
      "Confusion Matrix\n",
      " [[129616      0]\n",
      " [370379      4]]\n"
     ]
    }
   ],
   "source": [
    "scaler = preprocessing.MinMaxScaler()\n",
    "\n",
    "#scaling the data\n",
    "X_pca_np_scaled = scaler.fit_transform(X_pca_np)\n",
    "\n",
    "#fitting the data to modded kmeans\n",
    "kmeans_modded.fit(X_pca_np_scaled)\n",
    "\n",
    "#caclulating the percentage of correct labels\n",
    "print(\"accuracy Score : \",accuracy_score(y, kmeans_modded.predict(X_pca_np_scaled)))\n",
    "#printing confusion matrix\n",
    "print(\"Confusion Matrix\\n\",confusion_matrix(y, kmeans_modded.predict(X_pca_np_scaled)))\n",
    "\n",
    "\n",
    "\n"
   ]
  },
  {
   "cell_type": "markdown",
   "metadata": {},
   "source": [
    "### Regression"
   ]
  },
  {
   "cell_type": "markdown",
   "metadata": {},
   "source": [
    "#### Splitting the dataset\n",
    "We split the data into Training and Test set based on the parameter train_size.\n",
    "\n",
    "Example : if train_size = 0.70 then Training Set contains 80% of the data and Testing Set other 20%"
   ]
  },
  {
   "cell_type": "code",
   "execution_count": 26,
   "metadata": {},
   "outputs": [
    {
     "name": "stderr",
     "output_type": "stream",
     "text": [
      "/home/chrx/anaconda3/lib/python3.6/site-packages/sklearn/cross_validation.py:41: DeprecationWarning: This module was deprecated in version 0.18 in favor of the model_selection module into which all the refactored classes and functions are moved. Also note that the interface of the new CV iterators are different from that of this module. This module will be removed in 0.20.\n",
      "  \"This module will be removed in 0.20.\", DeprecationWarning)\n"
     ]
    }
   ],
   "source": [
    "# Use train_test_split in sklearn.cross_validation to split data into train and test sets\n",
    "from sklearn.cross_validation import train_test_split\n",
    "\n",
    "X_train, X_test, y_train, y_test = train_test_split(df, y, train_size=0.70, random_state=1)"
   ]
  },
  {
   "cell_type": "code",
   "execution_count": 27,
   "metadata": {},
   "outputs": [],
   "source": [
    "# Function to build model and find model performance\n",
    "from sklearn.linear_model import LogisticRegression\n",
    "from sklearn.metrics import roc_auc_score\n",
    "\n",
    "def find_model_perf(X_train, y_train, X_test, y_test, func):\n",
    "    model = func()\n",
    "    model.fit(X_train, y_train)\n",
    "    y_hat = [x[1] for x in model.predict_proba(X_test)]\n",
    "    auc = roc_auc_score(y_test, y_hat)\n",
    "    \n",
    "    return auc"
   ]
  },
  {
   "cell_type": "code",
   "execution_count": 28,
   "metadata": {},
   "outputs": [
    {
     "name": "stdout",
     "output_type": "stream",
     "text": [
      "0.9274834718737871\n"
     ]
    }
   ],
   "source": [
    "# Find performance of model using preprocessed data\n",
    "auc_processed = find_model_perf(X_train, y_train, X_test, y_test, LogisticRegression)\n",
    "print(auc_processed)"
   ]
  },
  {
   "cell_type": "markdown",
   "metadata": {},
   "source": [
    "This shows that Regression can correctly predict 98.5% of data"
   ]
  },
  {
   "cell_type": "markdown",
   "metadata": {},
   "source": [
    "### Random Forests"
   ]
  },
  {
   "cell_type": "code",
   "execution_count": 29,
   "metadata": {},
   "outputs": [],
   "source": [
    "from sklearn.ensemble import RandomForestClassifier\n",
    "randomForest = RandomForestClassifier(n_estimators=100, random_state=0)"
   ]
  },
  {
   "cell_type": "code",
   "execution_count": 30,
   "metadata": {},
   "outputs": [
    {
     "data": {
      "text/plain": [
       "RandomForestClassifier(bootstrap=True, class_weight=None, criterion='gini',\n",
       "            max_depth=None, max_features='auto', max_leaf_nodes=None,\n",
       "            min_impurity_decrease=0.0, min_impurity_split=None,\n",
       "            min_samples_leaf=1, min_samples_split=2,\n",
       "            min_weight_fraction_leaf=0.0, n_estimators=100, n_jobs=1,\n",
       "            oob_score=False, random_state=0, verbose=0, warm_start=False)"
      ]
     },
     "execution_count": 30,
     "metadata": {},
     "output_type": "execute_result"
    }
   ],
   "source": [
    "randomForest.fit(X_train, y_train)"
   ]
  },
  {
   "cell_type": "code",
   "execution_count": 31,
   "metadata": {},
   "outputs": [
    {
     "name": "stdout",
     "output_type": "stream",
     "text": [
      "accuracy Score :  0.9901333333333333\n",
      "Confusion Matrix\n",
      " [[ 38059    874]\n",
      " [   606 110461]]\n"
     ]
    },
    {
     "data": {
      "image/png": "[encoded data removed]",
      "text/plain": [
       "<Figure size 432x288 with 2 Axes>"
      ]
     },
     "metadata": {},
     "output_type": "display_data"
    }
   ],
   "source": [
    "#caclulating the percentage of correct labels\n",
    "print(\"accuracy Score : \",accuracy_score(y_test, randomForest.predict(X_test)))\n",
    "#printing confusion matrix\n",
    "print(\"Confusion Matrix\\n\",confusion_matrix(y_test, randomForest.predict(X_test)))\n",
    "\n",
    "#plotting confusion matrix\n",
    "plt.imshow(confusion_matrix(y_test, randomForest.predict(X_test)),\n",
    "           cmap='Blues', interpolation='nearest')\n",
    "plt.colorbar()\n",
    "plt.grid(False)\n",
    "plt.ylabel('true')\n",
    "plt.xlabel('predicted');"
   ]
  },
  {
   "cell_type": "markdown",
   "metadata": {},
   "source": [
    "### Conclusion"
   ]
  },
  {
   "cell_type": "markdown",
   "metadata": {},
   "source": [
    "Random Forests is the best available predictor for intrusion detection with Accuracy Score of 99.01%"
   ]
  }
 ],
 "metadata": {
  "kernelspec": {
   "display_name": "Python 3",
   "language": "python",
   "name": "python3"
  },
  "language_info": {
   "codemirror_mode": {
    "name": "ipython",
    "version": 3
   },
   "file_extension": ".py",
   "mimetype": "text/x-python",
   "name": "python",
   "nbconvert_exporter": "python",
   "pygments_lexer": "ipython3",
   "version": "3.6.5"
  }
 },
 "nbformat": 4,
 "nbformat_minor": 2
}
